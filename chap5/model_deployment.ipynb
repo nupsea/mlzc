{
 "cells": [
  {
   "cell_type": "code",
   "execution_count": 15,
   "id": "bbc5745e-9b03-4721-94b8-94cb65fb6d00",
   "metadata": {},
   "outputs": [],
   "source": [
    "# Imports\n",
    "import numpy as np\n",
    "import pandas as pd\n",
    "import matplotlib.pyplot as plt\n",
    "import seaborn as sns\n",
    "\n",
    "from sklearn.model_selection import train_test_split, KFold\n",
    "from sklearn.metrics import mutual_info_score, accuracy_score\n",
    "from sklearn.feature_extraction import DictVectorizer\n",
    "from sklearn.linear_model import LogisticRegression\n",
    "\n",
    "from sklearn.metrics import roc_auc_score\n",
    "\n",
    "from tqdm.auto import tqdm\n",
    "import warnings\n",
    "from sklearn.exceptions import ConvergenceWarning\n",
    "\n",
    "# Suppress only ConvergenceWarnings\n",
    "warnings.filterwarnings(\"ignore\", category=ConvergenceWarning)"
   ]
  },
  {
   "cell_type": "code",
   "execution_count": 10,
   "id": "55908f06-c231-482f-aaae-2a3d602b4569",
   "metadata": {},
   "outputs": [
    {
     "name": "stdout",
     "output_type": "stream",
     "text": [
      "Split DF len (Full Train, Train, Val, Test): (5634, 4225, 1409, 1409)\n",
      "Y DF len (Full Train, Train, Val, Test): (5634, 4225, 1409, 1409)\n"
     ]
    }
   ],
   "source": [
    "# Data read and prep\n",
    "\n",
    "df = pd.read_csv('../chap3/data/WA_Fn-UseC_-Telco-Customer-Churn.csv')\n",
    "\n",
    "# Standardize cols and col string data\n",
    "\n",
    "df.columns = df.columns.str.lower().str.replace(' ', '_')\n",
    "categorical = list(df.dtypes[df.dtypes == 'object'].index)\n",
    "for c in categorical:\n",
    "    df[c] = df[c].str.lower().str.replace(' ', '_')\n",
    "    \n",
    "# Fix totalcharges\n",
    "df.totalcharges = pd.to_numeric(df.totalcharges, errors='coerce')\n",
    "df.totalcharges = df.totalcharges.fillna(0)\n",
    "\n",
    "# Convert churn to numerical\n",
    "df.churn = (df.churn == 'yes').astype(int)\n",
    "\n",
    "df_full_train, df_test = train_test_split(df, test_size=.2, random_state=1)\n",
    "df_train, df_val = train_test_split(df_full_train, test_size=20/80, random_state=1)\n",
    "print(f\"Split DF len (Full Train, Train, Val, Test): {len(df_full_train), len(df_train), len(df_val), len(df_test)}\")\n",
    "\n",
    "df_full_train = df_full_train.reset_index(drop=True)\n",
    "df_train = df_train.reset_index(drop=True)\n",
    "df_val = df_val.reset_index(drop=True)\n",
    "df_test = df_test.reset_index(drop=True)\n",
    "\n",
    "y_full_train = df_full_train.pop('churn')\n",
    "y_train = df_train.pop('churn')\n",
    "y_val = df_val.pop('churn')\n",
    "y_test = df_test.pop('churn')\n",
    "print(f\"Y DF len (Full Train, Train, Val, Test): {len(y_full_train), len(y_train), len(y_val), len(y_test)}\")\n",
    "\n",
    "numerical = ['tenure', 'monthlycharges', 'totalcharges']\n",
    "\n",
    "categorical = [\n",
    " 'gender',\n",
    " 'seniorcitizen',\n",
    " 'partner',\n",
    " 'dependents',\n",
    " 'phoneservice',\n",
    " 'multiplelines',\n",
    " 'internetservice',\n",
    " 'onlinesecurity',\n",
    " 'onlinebackup',\n",
    " 'deviceprotection',\n",
    " 'techsupport',\n",
    " 'streamingtv',\n",
    " 'streamingmovies',\n",
    " 'contract',\n",
    " 'paperlessbilling',\n",
    " 'paymentmethod'\n",
    "]"
   ]
  },
  {
   "cell_type": "code",
   "execution_count": 3,
   "id": "52e6c4b7-5e1c-461d-86c0-936669262ad4",
   "metadata": {},
   "outputs": [],
   "source": [
    "def train(df_t, y, C=1.0):\n",
    "    dicts = df_t[categorical + numerical].to_dict(orient='records')\n",
    "\n",
    "    dv = DictVectorizer(sparse=False)\n",
    "    X_t = dv.fit_transform(dicts)\n",
    "\n",
    "    model = LogisticRegression(C=C, max_iter=1000)\n",
    "    model.fit(X_t, y)\n",
    "\n",
    "    return dv, model\n"
   ]
  },
  {
   "cell_type": "code",
   "execution_count": 5,
   "id": "fcbe3674-407e-4a1b-886a-15559b3532cd",
   "metadata": {},
   "outputs": [],
   "source": [
    "def predict(df_v, dv, model):\n",
    "    dicts = df_v[categorical + numerical].to_dict(orient='records')\n",
    "\n",
    "    X_val = dv.transform(dicts)\n",
    "    y_pred = model.predict_proba(X_val)[:, 1]\n",
    "\n",
    "    return y_pred"
   ]
  },
  {
   "cell_type": "code",
   "execution_count": 11,
   "id": "437ed037-89df-4120-9588-d4a2a6229c4e",
   "metadata": {},
   "outputs": [],
   "source": [
    "C = 1.0\n",
    "n_splits = 5\n"
   ]
  },
  {
   "cell_type": "code",
   "execution_count": 16,
   "id": "7f657bc9-c6ad-4089-bb0c-bb3e171129e5",
   "metadata": {},
   "outputs": [
    {
     "data": {
      "application/vnd.jupyter.widget-view+json": {
       "model_id": "84975d40a5124ea59bd95090b5d42c70",
       "version_major": 2,
       "version_minor": 0
      },
      "text/plain": [
       "0it [00:00, ?it/s]"
      ]
     },
     "metadata": {},
     "output_type": "display_data"
    }
   ],
   "source": [
    "kfold = KFold(n_splits=n_splits, shuffle=True, random_state=1)\n",
    "\n",
    "scores = [] \n",
    "\n",
    "for train_idx, val_idx in tqdm(kfold.split(df_full_train)): \n",
    "    df_train = df_full_train.iloc[train_idx]\n",
    "    df_val = df_full_train.iloc[val_idx]\n",
    "\n",
    "    y_train = y_full_train.iloc[train_idx]\n",
    "    y_val = y_full_train.iloc[val_idx]\n",
    "\n",
    "    dv, model = train(df_train, y_train)\n",
    "    y_pred = predict(df_val, dv, model)\n",
    "\n",
    "    score = roc_auc_score(y_val, y_pred)\n",
    "    scores.append(score)\n"
   ]
  },
  {
   "cell_type": "code",
   "execution_count": 17,
   "id": "62ad97da-76dd-46d2-80e9-dd0d0de1e4bb",
   "metadata": {},
   "outputs": [
    {
     "data": {
      "text/plain": [
       "[np.float64(0.8445573078160937),\n",
       " np.float64(0.8449563799496755),\n",
       " np.float64(0.8333493879189244),\n",
       " np.float64(0.8347529097653003),\n",
       " np.float64(0.8517225691067114)]"
      ]
     },
     "execution_count": 17,
     "metadata": {},
     "output_type": "execute_result"
    }
   ],
   "source": [
    "scores"
   ]
  },
  {
   "cell_type": "code",
   "execution_count": 18,
   "id": "f09b10c1-38a8-4d6d-8852-04fa98709c84",
   "metadata": {},
   "outputs": [
    {
     "data": {
      "text/plain": [
       "np.float64(0.858357166845418)"
      ]
     },
     "execution_count": 18,
     "metadata": {},
     "output_type": "execute_result"
    }
   ],
   "source": [
    "dv, model = train(df_full_train, y_full_train.values, C=1.0)\n",
    "y_pred = predict(df_test, dv, model)\n",
    "\n",
    "auc = roc_auc_score(y_test, y_pred)\n",
    "auc"
   ]
  },
  {
   "cell_type": "code",
   "execution_count": null,
   "id": "3e89ba7e-a746-48b4-b1f4-9074d32dea08",
   "metadata": {},
   "outputs": [],
   "source": []
  },
  {
   "cell_type": "code",
   "execution_count": 19,
   "id": "c9f1225b-d316-4ba0-8cd2-98675a5ea1d9",
   "metadata": {},
   "outputs": [],
   "source": [
    "## Save the model\n"
   ]
  },
  {
   "cell_type": "code",
   "execution_count": 20,
   "id": "de70f323-c5e2-4fff-a66d-961361496611",
   "metadata": {},
   "outputs": [],
   "source": [
    "import pickle"
   ]
  },
  {
   "cell_type": "code",
   "execution_count": 21,
   "id": "c07deab5-b07d-4641-966f-ed15a03780dc",
   "metadata": {},
   "outputs": [
    {
     "data": {
      "text/plain": [
       "'model_C=1.0.bin'"
      ]
     },
     "execution_count": 21,
     "metadata": {},
     "output_type": "execute_result"
    }
   ],
   "source": [
    "output_file = f'model_C={C}.bin'\n",
    "output_file"
   ]
  },
  {
   "cell_type": "code",
   "execution_count": null,
   "id": "9537e3b0-ae6f-4a27-93e8-9685805cdb3a",
   "metadata": {},
   "outputs": [],
   "source": []
  },
  {
   "cell_type": "code",
   "execution_count": 28,
   "id": "742fa21a-8964-4a5d-938c-e5881a424650",
   "metadata": {},
   "outputs": [],
   "source": [
    "with open(output_file, 'wb') as f_out:\n",
    "    pickle.dump((dv, model), f_out)"
   ]
  },
  {
   "cell_type": "code",
   "execution_count": null,
   "id": "b9ef254b-ca47-4ae0-a7f9-00d137912c89",
   "metadata": {},
   "outputs": [],
   "source": []
  },
  {
   "cell_type": "code",
   "execution_count": 29,
   "id": "d398cee4-d0ae-4fc6-bb10-af1c527b25f5",
   "metadata": {},
   "outputs": [],
   "source": [
    "# restart kernel to simulate diff process"
   ]
  },
  {
   "cell_type": "code",
   "execution_count": 2,
   "id": "e86ef323-331a-416a-bb85-de11c1c26720",
   "metadata": {},
   "outputs": [],
   "source": [
    "import pickle"
   ]
  },
  {
   "cell_type": "code",
   "execution_count": 7,
   "id": "b340c783-3dec-4c06-9c53-a9ef1ae134dc",
   "metadata": {},
   "outputs": [],
   "source": [
    "model_file = 'model_C=1.0.bin'"
   ]
  },
  {
   "cell_type": "code",
   "execution_count": 10,
   "id": "80327aeb-8731-471f-ba62-4343bd05b454",
   "metadata": {},
   "outputs": [],
   "source": [
    "with open(model_file, 'rb') as f_in:\n",
    "    dv, model = pickle.load(f_in)\n",
    "\n",
    "# Ensure scikit-learn is installed."
   ]
  },
  {
   "cell_type": "code",
   "execution_count": 11,
   "id": "4614785f-e586-4128-b14b-0caf6f58feeb",
   "metadata": {},
   "outputs": [
    {
     "data": {
      "text/plain": [
       "(DictVectorizer(sparse=False), LogisticRegression(max_iter=1000))"
      ]
     },
     "execution_count": 11,
     "metadata": {},
     "output_type": "execute_result"
    }
   ],
   "source": [
    "dv, model"
   ]
  },
  {
   "cell_type": "code",
   "execution_count": 12,
   "id": "78219d3f-e7d5-45fa-86ac-1a170f34be1f",
   "metadata": {},
   "outputs": [],
   "source": [
    "customer = {\n",
    " 'customerid': '0921-ohlvp',\n",
    " 'gender': 'male',\n",
    " 'seniorcitizen': 0,\n",
    " 'partner': 'no',\n",
    " 'dependents': 'no',\n",
    " 'tenure': 22,\n",
    " 'phoneservice': 'yes',\n",
    " 'multiplelines': 'yes',\n",
    " 'internetservice': 'fiber_optic',\n",
    " 'onlinesecurity': 'no',\n",
    " 'onlinebackup': 'no',\n",
    " 'deviceprotection': 'no',\n",
    " 'techsupport': 'no',\n",
    " 'streamingtv': 'no',\n",
    " 'streamingmovies': 'yes',\n",
    " 'contract': 'month-to-month',\n",
    " 'paperlessbilling': 'no',\n",
    " 'paymentmethod': 'electronic_check',\n",
    " 'monthlycharges': 83.05,\n",
    " 'totalcharges': 1799.3\n",
    "}"
   ]
  },
  {
   "cell_type": "code",
   "execution_count": 15,
   "id": "c69d5b87-66ea-44dd-a342-00e891b99943",
   "metadata": {},
   "outputs": [],
   "source": [
    "X = dv.transform([customer])"
   ]
  },
  {
   "cell_type": "code",
   "execution_count": 16,
   "id": "41609d4b-7fb8-4c1b-bf26-a81e0a583429",
   "metadata": {},
   "outputs": [
    {
     "data": {
      "text/plain": [
       "array([0.57204321])"
      ]
     },
     "execution_count": 16,
     "metadata": {},
     "output_type": "execute_result"
    }
   ],
   "source": [
    "model.predict_proba(X)[:, 1]"
   ]
  },
  {
   "cell_type": "code",
   "execution_count": null,
   "id": "4ff2a6da-5a72-4540-90cd-a9fe84133a8d",
   "metadata": {},
   "outputs": [],
   "source": []
  }
 ],
 "metadata": {
  "kernelspec": {
   "display_name": "Python 3 (ipykernel)",
   "language": "python",
   "name": "python3"
  },
  "language_info": {
   "codemirror_mode": {
    "name": "ipython",
    "version": 3
   },
   "file_extension": ".py",
   "mimetype": "text/x-python",
   "name": "python",
   "nbconvert_exporter": "python",
   "pygments_lexer": "ipython3",
   "version": "3.11.10"
  }
 },
 "nbformat": 4,
 "nbformat_minor": 5
}
