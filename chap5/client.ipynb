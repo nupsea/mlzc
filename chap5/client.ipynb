{
 "cells": [
  {
   "cell_type": "code",
   "execution_count": 29,
   "id": "3f12d5cd-0cfb-4b03-913a-89bd63f3d15b",
   "metadata": {},
   "outputs": [],
   "source": [
    "import requests\n",
    "import json"
   ]
  },
  {
   "cell_type": "code",
   "execution_count": 30,
   "id": "63d69594-0064-4f4d-be40-f69d76be6923",
   "metadata": {},
   "outputs": [],
   "source": [
    "customer = {\n",
    "    \"customerid\": \"la-la\",\n",
    "    \"gender\": \"male\",\n",
    "    \"seniorcitizen\": 1,\n",
    "    \"partner\": \"no\",\n",
    "    \"dependents\": \"no\",\n",
    "    \"tenure\": 12,\n",
    "    \"phoneservice\": \"yes\",\n",
    "    \"multiplelines\": \"yes\",\n",
    "    \"internetservice\": \"fiber_optic\",\n",
    "    \"onlinesecurity\": \"no\",\n",
    "    \"onlinebackup\": \"no\",\n",
    "    \"deviceprotection\": \"no\",\n",
    "    \"techsupport\": \"no\",\n",
    "    \"streamingtv\": \"no\",\n",
    "    \"streamingmovies\": \"yes\",\n",
    "    \"contract\": \"month-to-month\",\n",
    "    \"paperlessbilling\": \"no\",\n",
    "    \"paymentmethod\": \"electronic_check\",\n",
    "    \"monthlycharges\": 73.05,\n",
    "    \"totalcharges\": 1299.3,\n",
    "}"
   ]
  },
  {
   "cell_type": "code",
   "execution_count": 31,
   "id": "b6fb5e02-7e38-4b3f-bf1b-61bbe055f77a",
   "metadata": {},
   "outputs": [],
   "source": [
    "response = requests.post(\n",
    "    url='http://localhost:9696/churn',\n",
    "    json=customer\n",
    ")"
   ]
  },
  {
   "cell_type": "code",
   "execution_count": 32,
   "id": "c4bc70ae-9765-40ad-9c82-b0815eb21687",
   "metadata": {},
   "outputs": [
    {
     "data": {
      "text/plain": [
       "{'churn_prediction_val': 0.7125118772268969, 'is_churning': True}"
      ]
     },
     "execution_count": 32,
     "metadata": {},
     "output_type": "execute_result"
    }
   ],
   "source": [
    "response.json()"
   ]
  },
  {
   "cell_type": "code",
   "execution_count": null,
   "id": "e6920ceb-2352-493b-b169-ce6f5f424363",
   "metadata": {},
   "outputs": [],
   "source": []
  }
 ],
 "metadata": {
  "kernelspec": {
   "display_name": "Python 3 (ipykernel)",
   "language": "python",
   "name": "python3"
  },
  "language_info": {
   "codemirror_mode": {
    "name": "ipython",
    "version": 3
   },
   "file_extension": ".py",
   "mimetype": "text/x-python",
   "name": "python",
   "nbconvert_exporter": "python",
   "pygments_lexer": "ipython3",
   "version": "3.11.10"
  }
 },
 "nbformat": 4,
 "nbformat_minor": 5
}
