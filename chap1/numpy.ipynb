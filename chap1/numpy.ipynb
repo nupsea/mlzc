{
 "cells": [
  {
   "cell_type": "code",
   "execution_count": 1,
   "id": "227f7d48-5ece-477f-8337-64bede85e9c8",
   "metadata": {},
   "outputs": [],
   "source": [
    "import numpy as np"
   ]
  },
  {
   "cell_type": "code",
   "execution_count": 2,
   "id": "d52970ed-180b-4184-9610-73c3f7c143d7",
   "metadata": {},
   "outputs": [
    {
     "data": {
      "text/plain": [
       "<module 'numpy' from '/usr/local/Caskroom/mambaforge/base/envs/mlzc/lib/python3.11/site-packages/numpy/__init__.py'>"
      ]
     },
     "execution_count": 2,
     "metadata": {},
     "output_type": "execute_result"
    }
   ],
   "source": [
    "np"
   ]
  },
  {
   "cell_type": "markdown",
   "id": "43dec576-f1a3-4f13-9366-04ddd407cb5a",
   "metadata": {},
   "source": [
    "## Creating Arrays"
   ]
  },
  {
   "cell_type": "code",
   "execution_count": 4,
   "id": "117ef0ab-a723-47e5-b71c-00be961946c6",
   "metadata": {},
   "outputs": [
    {
     "data": {
      "text/plain": [
       "array([0., 0., 0., 0., 0.])"
      ]
     },
     "execution_count": 4,
     "metadata": {},
     "output_type": "execute_result"
    }
   ],
   "source": [
    "np.zeros(5)"
   ]
  },
  {
   "cell_type": "code",
   "execution_count": 5,
   "id": "be7ab161-a8ab-48b5-afa5-40ffe9d195a9",
   "metadata": {},
   "outputs": [
    {
     "data": {
      "text/plain": [
       "array([1., 1., 1.])"
      ]
     },
     "execution_count": 5,
     "metadata": {},
     "output_type": "execute_result"
    }
   ],
   "source": [
    "np.ones(3)"
   ]
  },
  {
   "cell_type": "code",
   "execution_count": 6,
   "id": "3a8023c4-35f3-4dc3-834c-3fcebc9a3294",
   "metadata": {},
   "outputs": [
    {
     "data": {
      "text/plain": [
       "array([2.2, 2.2, 2.2, 2.2, 2.2, 2.2, 2.2, 2.2, 2.2, 2.2])"
      ]
     },
     "execution_count": 6,
     "metadata": {},
     "output_type": "execute_result"
    }
   ],
   "source": [
    "np.full(10, 2.2)"
   ]
  },
  {
   "cell_type": "code",
   "execution_count": 10,
   "id": "4dd9ae78-ba46-438f-be1f-fdf32d754679",
   "metadata": {},
   "outputs": [
    {
     "data": {
      "text/plain": [
       "array([ 1, 34,  3, 23])"
      ]
     },
     "execution_count": 10,
     "metadata": {},
     "output_type": "execute_result"
    }
   ],
   "source": [
    "x = np.array([1, 34, 3, 23])\n",
    "x"
   ]
  },
  {
   "cell_type": "code",
   "execution_count": 17,
   "id": "51df6852-88cb-4ffb-ad08-78a3ee9a542f",
   "metadata": {},
   "outputs": [
    {
     "data": {
      "text/plain": [
       "np.int64(34)"
      ]
     },
     "execution_count": 17,
     "metadata": {},
     "output_type": "execute_result"
    }
   ],
   "source": [
    "x[1]"
   ]
  },
  {
   "cell_type": "code",
   "execution_count": 19,
   "id": "4d3aebbe-e93a-42af-a91a-b187d7a2c55c",
   "metadata": {},
   "outputs": [
    {
     "name": "stdout",
     "output_type": "stream",
     "text": [
      "22\n"
     ]
    }
   ],
   "source": [
    "x[2] = 22\n",
    "print(x[2])"
   ]
  },
  {
   "cell_type": "code",
   "execution_count": 20,
   "id": "96787f16-789b-460d-933d-c46ee16acfed",
   "metadata": {},
   "outputs": [
    {
     "data": {
      "text/plain": [
       "array([1, 2, 3, 4])"
      ]
     },
     "execution_count": 20,
     "metadata": {},
     "output_type": "execute_result"
    }
   ],
   "source": [
    "np.arange(1, 5)"
   ]
  },
  {
   "cell_type": "code",
   "execution_count": 22,
   "id": "3fb24762-3ecf-4b32-9d78-6ae2e6e1d82c",
   "metadata": {},
   "outputs": [
    {
     "data": {
      "text/plain": [
       "array([ 0.        ,  0.20408163,  0.40816327,  0.6122449 ,  0.81632653,\n",
       "        1.02040816,  1.2244898 ,  1.42857143,  1.63265306,  1.83673469,\n",
       "        2.04081633,  2.24489796,  2.44897959,  2.65306122,  2.85714286,\n",
       "        3.06122449,  3.26530612,  3.46938776,  3.67346939,  3.87755102,\n",
       "        4.08163265,  4.28571429,  4.48979592,  4.69387755,  4.89795918,\n",
       "        5.10204082,  5.30612245,  5.51020408,  5.71428571,  5.91836735,\n",
       "        6.12244898,  6.32653061,  6.53061224,  6.73469388,  6.93877551,\n",
       "        7.14285714,  7.34693878,  7.55102041,  7.75510204,  7.95918367,\n",
       "        8.16326531,  8.36734694,  8.57142857,  8.7755102 ,  8.97959184,\n",
       "        9.18367347,  9.3877551 ,  9.59183673,  9.79591837, 10.        ])"
      ]
     },
     "execution_count": 22,
     "metadata": {},
     "output_type": "execute_result"
    }
   ],
   "source": [
    "np.linspace(0, 10)"
   ]
  },
  {
   "cell_type": "code",
   "execution_count": 23,
   "id": "8db0012f-606c-4283-b0f8-f21b6b192ecf",
   "metadata": {},
   "outputs": [
    {
     "data": {
      "text/plain": [
       "array([ 0. ,  2.5,  5. ,  7.5, 10. ])"
      ]
     },
     "execution_count": 23,
     "metadata": {},
     "output_type": "execute_result"
    }
   ],
   "source": [
    "np.linspace(0, 10, 5)"
   ]
  },
  {
   "cell_type": "markdown",
   "id": "3bef37b0-9820-4d9e-a642-bdd5e1f67f44",
   "metadata": {},
   "source": [
    "## Multi Dimensional Arrays"
   ]
  },
  {
   "cell_type": "code",
   "execution_count": 25,
   "id": "667183c5-e19d-42ba-a292-ecf75a2ca0d4",
   "metadata": {},
   "outputs": [
    {
     "data": {
      "text/plain": [
       "array([[0., 0.],\n",
       "       [0., 0.],\n",
       "       [0., 0.]])"
      ]
     },
     "execution_count": 25,
     "metadata": {},
     "output_type": "execute_result"
    }
   ],
   "source": [
    "np.zeros((3, 2))"
   ]
  },
  {
   "cell_type": "code",
   "execution_count": 28,
   "id": "9cd807f8-1a38-4959-ac3f-947145ccb997",
   "metadata": {},
   "outputs": [
    {
     "data": {
      "text/plain": [
       "array([[1, 2, 3],\n",
       "       [4, 5, 6]])"
      ]
     },
     "execution_count": 28,
     "metadata": {},
     "output_type": "execute_result"
    }
   ],
   "source": [
    "bigX = np.array([[1, 2, 3], [4, 5, 6]])\n",
    "bigX\n"
   ]
  },
  {
   "cell_type": "code",
   "execution_count": 51,
   "id": "a1f8a967-3050-476c-829d-085b5cb6d4db",
   "metadata": {},
   "outputs": [
    {
     "data": {
      "text/plain": [
       "array([1, 2, 3])"
      ]
     },
     "execution_count": 51,
     "metadata": {},
     "output_type": "execute_result"
    }
   ],
   "source": [
    "bigX[0] # zero-based in numpy "
   ]
  },
  {
   "cell_type": "code",
   "execution_count": 31,
   "id": "d1938a3c-8a11-486c-a9f1-fe8d2ad3eb67",
   "metadata": {},
   "outputs": [
    {
     "name": "stdout",
     "output_type": "stream",
     "text": [
      "6\n"
     ]
    }
   ],
   "source": [
    "print(bigX[1,2])"
   ]
  },
  {
   "cell_type": "code",
   "execution_count": 34,
   "id": "b106c700-0fc7-43e7-9065-31caa63c9eb6",
   "metadata": {},
   "outputs": [
    {
     "data": {
      "text/plain": [
       "array([[1, 2, 3],\n",
       "       [7, 8, 6]])"
      ]
     },
     "execution_count": 34,
     "metadata": {},
     "output_type": "execute_result"
    }
   ],
   "source": [
    "bigX[1]=[7, 8, 6]\n",
    "bigX\n"
   ]
  },
  {
   "cell_type": "code",
   "execution_count": 50,
   "id": "ed7b2ebb-490f-4835-a595-7248611c3ac0",
   "metadata": {},
   "outputs": [
    {
     "data": {
      "text/plain": [
       "array([[1, 2, 3]])"
      ]
     },
     "execution_count": 50,
     "metadata": {},
     "output_type": "execute_result"
    }
   ],
   "source": [
    "bigX[0:1] # until second row => first row"
   ]
  },
  {
   "cell_type": "code",
   "execution_count": 48,
   "id": "9d591c43-0e09-448e-9ece-8fdf6ad2edea",
   "metadata": {},
   "outputs": [
    {
     "data": {
      "text/plain": [
       "array([1, 2, 3])"
      ]
     },
     "execution_count": 48,
     "metadata": {},
     "output_type": "execute_result"
    }
   ],
   "source": [
    "bigX[-2] # second last row"
   ]
  },
  {
   "cell_type": "markdown",
   "id": "c8d66bd3-8151-459e-9461-03634f81f62f",
   "metadata": {},
   "source": [
    "###  Slicing "
   ]
  },
  {
   "cell_type": "code",
   "execution_count": 47,
   "id": "b1cc1e43-6451-41f4-9de8-f25f47c7662f",
   "metadata": {},
   "outputs": [
    {
     "data": {
      "text/plain": [
       "array([2, 8])"
      ]
     },
     "execution_count": 47,
     "metadata": {},
     "output_type": "execute_result"
    }
   ],
   "source": [
    "# Pick second row from bigX\n",
    "bigX[:, 1]"
   ]
  },
  {
   "cell_type": "code",
   "execution_count": 56,
   "id": "4a27e8bc-6775-4a53-9568-af0f2c81d608",
   "metadata": {},
   "outputs": [
    {
     "data": {
      "text/plain": [
       "array([[1, 3],\n",
       "       [7, 6]])"
      ]
     },
     "execution_count": 56,
     "metadata": {},
     "output_type": "execute_result"
    }
   ],
   "source": [
    "# First and third columns\n",
    "bigX[:, (0,2)]"
   ]
  },
  {
   "cell_type": "code",
   "execution_count": 57,
   "id": "c5ea5bc8-b026-45e3-9eb9-acb36dfb3370",
   "metadata": {},
   "outputs": [
    {
     "data": {
      "text/plain": [
       "array([[2, 3],\n",
       "       [8, 6]])"
      ]
     },
     "execution_count": 57,
     "metadata": {},
     "output_type": "execute_result"
    }
   ],
   "source": [
    "# Last 2 columns\n",
    "bigX[:, 1:3]"
   ]
  },
  {
   "cell_type": "markdown",
   "id": "9d64317a-cb48-4c20-b1df-f9bdd9e5a06f",
   "metadata": {},
   "source": [
    "## Randomnly generated arrays"
   ]
  },
  {
   "cell_type": "code",
   "execution_count": 68,
   "id": "bedcce79-cf40-44f7-a475-4345c0348191",
   "metadata": {},
   "outputs": [
    {
     "data": {
      "text/plain": [
       "array([[13.45799453, 51.35781213, 18.44398656],\n",
       "       [78.53351478, 85.39752926, 49.42368374],\n",
       "       [84.65614854,  7.9645477 , 50.52460901],\n",
       "       [ 6.52865044, 42.81223276,  9.65309157]])"
      ]
     },
     "execution_count": 68,
     "metadata": {},
     "output_type": "execute_result"
    }
   ],
   "source": [
    "100 * np.random.rand(4,3) # different with every exec"
   ]
  },
  {
   "cell_type": "code",
   "execution_count": 67,
   "id": "ef94e6f2-017a-4ef9-bc2b-d1291ad3859a",
   "metadata": {},
   "outputs": [
    {
     "data": {
      "text/plain": [
       "array([[-0.41675785, -0.05626683, -2.1361961 ],\n",
       "       [ 1.64027081, -1.79343559, -0.84174737],\n",
       "       [ 0.50288142, -1.24528809, -1.05795222],\n",
       "       [-0.90900761,  0.55145404,  2.29220801]])"
      ]
     },
     "execution_count": 67,
     "metadata": {},
     "output_type": "execute_result"
    }
   ],
   "source": [
    "np.random.seed(2) # same on every exec\n",
    "np.random.randn(4,3)"
   ]
  },
  {
   "cell_type": "code",
   "execution_count": 69,
   "id": "b3e5f3de-d9a7-4de6-b575-96f985ad2ee8",
   "metadata": {},
   "outputs": [
    {
     "data": {
      "text/plain": [
       "array([[80, 52],\n",
       "       [76, 50],\n",
       "       [ 4, 90]])"
      ]
     },
     "execution_count": 69,
     "metadata": {},
     "output_type": "execute_result"
    }
   ],
   "source": [
    "np.random.randint(low=0, high=100, size=(3,2))"
   ]
  },
  {
   "cell_type": "markdown",
   "id": "c724ab39-ba8b-433d-9018-08322138eca5",
   "metadata": {},
   "source": [
    "## Element wise ops"
   ]
  },
  {
   "cell_type": "code",
   "execution_count": 73,
   "id": "d917502e-61b9-4586-8e8d-f3fd414c0456",
   "metadata": {},
   "outputs": [
    {
     "data": {
      "text/plain": [
       "array([0, 1, 2, 3, 4])"
      ]
     },
     "execution_count": 73,
     "metadata": {},
     "output_type": "execute_result"
    }
   ],
   "source": [
    "a = np.arange(5)\n",
    "a"
   ]
  },
  {
   "cell_type": "code",
   "execution_count": 72,
   "id": "34226cbd-02f1-4a5b-b356-e52540dfa437",
   "metadata": {},
   "outputs": [
    {
     "data": {
      "text/plain": [
       "array([0, 2, 4, 6, 8])"
      ]
     },
     "execution_count": 72,
     "metadata": {},
     "output_type": "execute_result"
    }
   ],
   "source": [
    "a * 2"
   ]
  },
  {
   "cell_type": "code",
   "execution_count": 77,
   "id": "a7188699-c4a7-4cf4-b4d0-ca33fb6212b7",
   "metadata": {},
   "outputs": [
    {
     "data": {
      "text/plain": [
       "array([   3,  532, 2119, 4764, 8467])"
      ]
     },
     "execution_count": 77,
     "metadata": {},
     "output_type": "execute_result"
    }
   ],
   "source": [
    "b = 3 + (a * 23) ** 2 \n",
    "b"
   ]
  },
  {
   "cell_type": "code",
   "execution_count": 78,
   "id": "cfdacf1b-3589-4d58-95e0-8d1c13a08dac",
   "metadata": {},
   "outputs": [
    {
     "data": {
      "text/plain": [
       "array([   3,  533, 2121, 4767, 8471])"
      ]
     },
     "execution_count": 78,
     "metadata": {},
     "output_type": "execute_result"
    }
   ],
   "source": [
    "a + b"
   ]
  },
  {
   "cell_type": "code",
   "execution_count": 79,
   "id": "b6b29308-45ea-4f60-ba41-47f16da118a9",
   "metadata": {},
   "outputs": [
    {
     "data": {
      "text/plain": [
       "array([False, False, False, False,  True])"
      ]
     },
     "execution_count": 79,
     "metadata": {},
     "output_type": "execute_result"
    }
   ],
   "source": [
    "a > 3"
   ]
  },
  {
   "cell_type": "code",
   "execution_count": 82,
   "id": "e738a734-eda5-4638-adba-a621214dbf05",
   "metadata": {},
   "outputs": [
    {
     "data": {
      "text/plain": [
       "array([ True, False, False, False, False])"
      ]
     },
     "execution_count": 82,
     "metadata": {},
     "output_type": "execute_result"
    }
   ],
   "source": [
    "(a + 10) > b"
   ]
  },
  {
   "cell_type": "code",
   "execution_count": 88,
   "id": "7360603b-057f-4d49-bc42-88ad973c0385",
   "metadata": {},
   "outputs": [
    {
     "data": {
      "text/plain": [
       "array([   3,  532, 2119])"
      ]
     },
     "execution_count": 88,
     "metadata": {},
     "output_type": "execute_result"
    }
   ],
   "source": [
    "b[b > a ** 10]"
   ]
  },
  {
   "cell_type": "markdown",
   "id": "79ca60e1-ab98-42ee-a4d0-b390232b5a6d",
   "metadata": {},
   "source": [
    "## Summarizing ops"
   ]
  },
  {
   "cell_type": "code",
   "execution_count": 90,
   "id": "58b50522-2616-4aea-acec-e1f7385a98de",
   "metadata": {},
   "outputs": [
    {
     "data": {
      "text/plain": [
       "np.int64(0)"
      ]
     },
     "execution_count": 90,
     "metadata": {},
     "output_type": "execute_result"
    }
   ],
   "source": [
    "a.min()"
   ]
  },
  {
   "cell_type": "code",
   "execution_count": 91,
   "id": "1994c388-aa42-488e-a151-3950298d22c0",
   "metadata": {},
   "outputs": [
    {
     "data": {
      "text/plain": [
       "np.int64(4)"
      ]
     },
     "execution_count": 91,
     "metadata": {},
     "output_type": "execute_result"
    }
   ],
   "source": [
    "a.max()"
   ]
  },
  {
   "cell_type": "code",
   "execution_count": 92,
   "id": "1127932e-2436-4633-b138-77d6da4f8297",
   "metadata": {},
   "outputs": [
    {
     "data": {
      "text/plain": [
       "np.float64(3177.0)"
      ]
     },
     "execution_count": 92,
     "metadata": {},
     "output_type": "execute_result"
    }
   ],
   "source": [
    "b.mean()"
   ]
  },
  {
   "cell_type": "code",
   "execution_count": 93,
   "id": "0f05c97e-965a-4558-bac1-802eeefae93d",
   "metadata": {},
   "outputs": [
    {
     "data": {
      "text/plain": [
       "np.float64(3120.651662714056)"
      ]
     },
     "execution_count": 93,
     "metadata": {},
     "output_type": "execute_result"
    }
   ],
   "source": [
    "b.std()"
   ]
  },
  {
   "cell_type": "code",
   "execution_count": 94,
   "id": "f63d0a91-4aac-4e86-9c71-3f459c6fb639",
   "metadata": {},
   "outputs": [
    {
     "data": {
      "text/plain": [
       "np.int64(10)"
      ]
     },
     "execution_count": 94,
     "metadata": {},
     "output_type": "execute_result"
    }
   ],
   "source": [
    "a.sum()"
   ]
  },
  {
   "cell_type": "code",
   "execution_count": null,
   "id": "bf8cdda5-d643-41a5-bd9b-e20b54557def",
   "metadata": {},
   "outputs": [],
   "source": []
  }
 ],
 "metadata": {
  "kernelspec": {
   "display_name": "Python 3 (ipykernel)",
   "language": "python",
   "name": "python3"
  },
  "language_info": {
   "codemirror_mode": {
    "name": "ipython",
    "version": 3
   },
   "file_extension": ".py",
   "mimetype": "text/x-python",
   "name": "python",
   "nbconvert_exporter": "python",
   "pygments_lexer": "ipython3",
   "version": "3.11.10"
  }
 },
 "nbformat": 4,
 "nbformat_minor": 5
}
