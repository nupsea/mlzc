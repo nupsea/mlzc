{
 "cells": [
  {
   "cell_type": "code",
   "execution_count": 1,
   "id": "c712d2fc-6684-4836-bde0-e5b9f9021675",
   "metadata": {},
   "outputs": [],
   "source": [
    "import numpy as np"
   ]
  },
  {
   "cell_type": "code",
   "execution_count": 38,
   "id": "b305228e-1106-474c-838b-ef512f965307",
   "metadata": {},
   "outputs": [],
   "source": [
    "U = np.array([\n",
    "    [2, 4, 5, 6],\n",
    "    [1, 2, 1, 1],\n",
    "    [3, 1, 2, 1]\n",
    "])"
   ]
  },
  {
   "cell_type": "code",
   "execution_count": 39,
   "id": "629a245f-d97a-4a87-a4ad-a16d7bf8fa88",
   "metadata": {},
   "outputs": [],
   "source": [
    "V = np.array([\n",
    "    [2, 4],\n",
    "    [1, 2],\n",
    "    [3, 1],\n",
    "    [4, 5]\n",
    "])"
   ]
  },
  {
   "cell_type": "code",
   "execution_count": 34,
   "id": "6395e7ec-abe2-42d2-a283-34e76c7f5f1e",
   "metadata": {},
   "outputs": [
    {
     "data": {
      "text/plain": [
       "((3, 4), (4, 2))"
      ]
     },
     "execution_count": 34,
     "metadata": {},
     "output_type": "execute_result"
    }
   ],
   "source": [
    "U.shape, V.shape"
   ]
  },
  {
   "cell_type": "markdown",
   "id": "34cf031d-7b04-452f-bdbd-acfc61836c3a",
   "metadata": {},
   "source": [
    "### Dot product\n",
    "$$\\sum_{i=0}^{n-1} u_i v_i$$"
   ]
  },
  {
   "cell_type": "code",
   "execution_count": 25,
   "id": "a1c93c63-fa5f-42ad-b620-54e43291db10",
   "metadata": {},
   "outputs": [],
   "source": [
    "\n",
    "\n",
    "def vector_vector_mul(u, v):\n",
    "    assert u.shape[0] == v.shape[0]\n",
    "\n",
    "    result = 0\n",
    "    for i in range(u.shape[0]):\n",
    "        result += u[i] * v[i]\n",
    "\n",
    "    return result"
   ]
  },
  {
   "cell_type": "code",
   "execution_count": 26,
   "id": "a961a0ab-bd30-4928-8485-367967df763d",
   "metadata": {},
   "outputs": [
    {
     "name": "stdout",
     "output_type": "stream",
     "text": [
      "14\n"
     ]
    }
   ],
   "source": [
    "u = np.array([2, 3, 1, 2])\n",
    "v = np.array([0, 1, 1, 5])\n",
    "res = vector_vector_mul(u, v)\n",
    "print(res)"
   ]
  },
  {
   "cell_type": "code",
   "execution_count": 27,
   "id": "4751be11-83ad-4567-9d08-9d3d199dcac4",
   "metadata": {},
   "outputs": [
    {
     "name": "stdout",
     "output_type": "stream",
     "text": [
      "14\n"
     ]
    }
   ],
   "source": [
    "print(u.dot(v))"
   ]
  },
  {
   "cell_type": "code",
   "execution_count": 31,
   "id": "18b761fb-f181-4fc9-bf93-a1e934bd71d2",
   "metadata": {},
   "outputs": [],
   "source": [
    "# Matrix Vector multiplication "
   ]
  },
  {
   "cell_type": "code",
   "execution_count": 29,
   "id": "55b5d318-1691-440f-ad77-0bae199a9fc5",
   "metadata": {},
   "outputs": [],
   "source": [
    "def matrix_vector_mul(U, v):\n",
    "    assert U.shape[1] == v.shape[0]\n",
    "\n",
    "    num_rows = U.shape[0]\n",
    "\n",
    "    result = np.zeros(num_rows)\n",
    "\n",
    "    for i in range(num_rows):\n",
    "        result[i] += vector_vector_mul(U[i], v)\n",
    "\n",
    "    return result\n",
    "    "
   ]
  },
  {
   "cell_type": "code",
   "execution_count": 30,
   "id": "adaaaf93-3019-4ef1-bde7-7caf0115f6e7",
   "metadata": {},
   "outputs": [
    {
     "name": "stdout",
     "output_type": "stream",
     "text": [
      "[39.  8.  8.]\n"
     ]
    }
   ],
   "source": [
    "print(matrix_vector_mul(U, v))"
   ]
  },
  {
   "cell_type": "code",
   "execution_count": 32,
   "id": "af1a486c-7879-4b56-b4e8-addd5b8483ca",
   "metadata": {},
   "outputs": [],
   "source": [
    "# Matrix matrix multiplication or Cross Product "
   ]
  },
  {
   "cell_type": "code",
   "execution_count": 46,
   "id": "3f6c7d66-6875-47f2-a5e9-c189ca9e94ca",
   "metadata": {},
   "outputs": [],
   "source": [
    "def matrix_matrix_mul(U, V):\n",
    "    assert U.shape[1] == V.shape[0]\n",
    "\n",
    "    m = U.shape[0]\n",
    "    n = V.shape[1]\n",
    "\n",
    "    result = np.zeros((m, n))\n",
    "\n",
    "    for i in range(n):\n",
    "        vi = V[:, i]\n",
    "        Uvi = matrix_vector_mul(U, vi)\n",
    "        result[:, i] = Uvi\n",
    "\n",
    "    return result\n",
    "\n",
    "    "
   ]
  },
  {
   "cell_type": "code",
   "execution_count": 48,
   "id": "c04b8f32-60fd-4c00-94bd-04834430ef6e",
   "metadata": {},
   "outputs": [
    {
     "data": {
      "text/plain": [
       "array([[47., 51.],\n",
       "       [11., 14.],\n",
       "       [17., 21.]])"
      ]
     },
     "execution_count": 48,
     "metadata": {},
     "output_type": "execute_result"
    }
   ],
   "source": [
    "matrix_matrix_mul(U, V)"
   ]
  },
  {
   "cell_type": "code",
   "execution_count": 49,
   "id": "b24726c3-0646-4ca4-bdde-40b4e7e29ff9",
   "metadata": {},
   "outputs": [
    {
     "data": {
      "text/plain": [
       "array([[47, 51],\n",
       "       [11, 14],\n",
       "       [17, 21]])"
      ]
     },
     "execution_count": 49,
     "metadata": {},
     "output_type": "execute_result"
    }
   ],
   "source": [
    "U.dot(V)"
   ]
  },
  {
   "cell_type": "code",
   "execution_count": 50,
   "id": "ef5fd853-f81e-4af5-ae74-411333bff682",
   "metadata": {},
   "outputs": [
    {
     "data": {
      "text/plain": [
       "array([[1., 0., 0.],\n",
       "       [0., 1., 0.],\n",
       "       [0., 0., 1.]])"
      ]
     },
     "execution_count": 50,
     "metadata": {},
     "output_type": "execute_result"
    }
   ],
   "source": [
    "# Identity matrix (Square matrix with diagonal 1)\n",
    "np.identity(3)"
   ]
  },
  {
   "cell_type": "code",
   "execution_count": 57,
   "id": "54066028-c806-44ca-a35d-2cd2248fbe6b",
   "metadata": {},
   "outputs": [],
   "source": [
    "# or \n",
    "I = np.eye(3)"
   ]
  },
  {
   "cell_type": "code",
   "execution_count": 58,
   "id": "f3fba31d-93ef-4065-8f92-45143b6209a4",
   "metadata": {},
   "outputs": [],
   "source": [
    "Us = U[:, 0:3]"
   ]
  },
  {
   "cell_type": "code",
   "execution_count": 59,
   "id": "6a598c77-c971-4219-a824-ebdd4b219aeb",
   "metadata": {},
   "outputs": [
    {
     "data": {
      "text/plain": [
       "array([[2, 4, 5],\n",
       "       [1, 2, 1],\n",
       "       [3, 1, 2]])"
      ]
     },
     "execution_count": 59,
     "metadata": {},
     "output_type": "execute_result"
    }
   ],
   "source": [
    "Us"
   ]
  },
  {
   "cell_type": "code",
   "execution_count": 68,
   "id": "b277d645-5e03-4818-bc9d-07a3b4c76f4e",
   "metadata": {},
   "outputs": [
    {
     "data": {
      "text/plain": [
       "array([[2., 4., 5.],\n",
       "       [1., 2., 1.],\n",
       "       [3., 1., 2.]])"
      ]
     },
     "execution_count": 68,
     "metadata": {},
     "output_type": "execute_result"
    }
   ],
   "source": [
    "Us.dot(I)"
   ]
  },
  {
   "cell_type": "code",
   "execution_count": 69,
   "id": "369fa0fd-721c-4b23-8669-87348d8fa627",
   "metadata": {},
   "outputs": [],
   "source": [
    "# Inverse\n",
    "Us_inv = np.linalg.inv(Us)"
   ]
  },
  {
   "cell_type": "code",
   "execution_count": 70,
   "id": "678c5198-60ef-4160-b268-fc4eaba34980",
   "metadata": {},
   "outputs": [
    {
     "data": {
      "text/plain": [
       "array([[-0.2       ,  0.2       ,  0.4       ],\n",
       "       [-0.06666667,  0.73333333, -0.2       ],\n",
       "       [ 0.33333333, -0.66666667, -0.        ]])"
      ]
     },
     "execution_count": 70,
     "metadata": {},
     "output_type": "execute_result"
    }
   ],
   "source": [
    "Us_inv"
   ]
  },
  {
   "cell_type": "code",
   "execution_count": 72,
   "id": "0de84ab8-b2e5-45a8-a158-58586f718739",
   "metadata": {},
   "outputs": [
    {
     "data": {
      "text/plain": [
       "array([[ 1.00000000e+00, -5.55111512e-17,  0.00000000e+00],\n",
       "       [ 2.77555756e-17,  1.00000000e+00, -5.55111512e-17],\n",
       "       [ 0.00000000e+00,  0.00000000e+00,  1.00000000e+00]])"
      ]
     },
     "execution_count": 72,
     "metadata": {},
     "output_type": "execute_result"
    }
   ],
   "source": [
    "Us_inv.dot(Us) # Results in an identity matrix"
   ]
  },
  {
   "cell_type": "code",
   "execution_count": null,
   "id": "435d6e48-fdef-4ca9-9d00-9d0cebfac599",
   "metadata": {},
   "outputs": [],
   "source": []
  }
 ],
 "metadata": {
  "kernelspec": {
   "display_name": "Python 3 (ipykernel)",
   "language": "python",
   "name": "python3"
  },
  "language_info": {
   "codemirror_mode": {
    "name": "ipython",
    "version": 3
   },
   "file_extension": ".py",
   "mimetype": "text/x-python",
   "name": "python",
   "nbconvert_exporter": "python",
   "pygments_lexer": "ipython3",
   "version": "3.11.10"
  }
 },
 "nbformat": 4,
 "nbformat_minor": 5
}
