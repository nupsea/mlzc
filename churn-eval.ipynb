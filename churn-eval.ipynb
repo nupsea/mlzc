{
 "cells": [
  {
   "cell_type": "code",
   "execution_count": 462,
   "id": "7c5c53fb-0347-48fb-8480-02adb4226625",
   "metadata": {},
   "outputs": [],
   "source": [
    "# Imports\n",
    "import numpy as np\n",
    "import pandas as pd\n",
    "import matplotlib.pyplot as plt\n",
    "import seaborn as sns\n",
    "\n",
    "from sklearn.model_selection import train_test_split\n",
    "from sklearn.metrics import mutual_info_score, accuracy_score\n",
    "from sklearn.feature_extraction import DictVectorizer\n",
    "from sklearn.linear_model import LogisticRegression\n"
   ]
  },
  {
   "cell_type": "code",
   "execution_count": 463,
   "id": "7b943309-27c7-4506-b8a9-144ddb50f7e4",
   "metadata": {},
   "outputs": [
    {
     "name": "stdout",
     "output_type": "stream",
     "text": [
      "Split DF len (Full Train, Train, Val, Test): (5634, 4225, 1409, 1409)\n",
      "Y DF len (Full Train, Train, Val, Test): (5634, 4225, 1409, 1409)\n"
     ]
    }
   ],
   "source": [
    "# Data read and prep\n",
    "\n",
    "df = pd.read_csv('../chap3/data/WA_Fn-UseC_-Telco-Customer-Churn.csv')\n",
    "\n",
    "# Standardize cols and col string data\n",
    "\n",
    "df.columns = df.columns.str.lower().str.replace(' ', '_')\n",
    "categorical = list(df.dtypes[df.dtypes == 'object'].index)\n",
    "for c in categorical:\n",
    "    df[c] = df[c].str.lower().str.replace(' ', '_')\n",
    "    \n",
    "# Fix totalcharges\n",
    "df.totalcharges = pd.to_numeric(df.totalcharges, errors='coerce')\n",
    "df.totalcharges = df.totalcharges.fillna(0)\n",
    "\n",
    "# Convert churn to numerical\n",
    "df.churn = (df.churn == 'yes').astype(int)\n",
    "\n",
    "df_full_train, df_test = train_test_split(df, test_size=.2, random_state=1)\n",
    "df_train, df_val = train_test_split(df_full_train, test_size=20/80, random_state=1)\n",
    "print(f\"Split DF len (Full Train, Train, Val, Test): {len(df_full_train), len(df_train), len(df_val), len(df_test)}\")\n",
    "\n",
    "df_full_train = df_full_train.reset_index(drop=True)\n",
    "df_train = df_train.reset_index(drop=True)\n",
    "df_val = df_val.reset_index(drop=True)\n",
    "df_test = df_test.reset_index(drop=True)\n",
    "\n",
    "y_full_train = df_full_train.pop('churn')\n",
    "y_train = df_train.pop('churn')\n",
    "y_val = df_val.pop('churn')\n",
    "y_test = df_test.pop('churn')\n",
    "print(f\"Y DF len (Full Train, Train, Val, Test): {len(y_full_train), len(y_train), len(y_val), len(y_test)}\")\n",
    "\n",
    "numerical = ['tenure', 'monthlycharges', 'totalcharges']\n",
    "\n",
    "categorical = [\n",
    " 'gender',\n",
    " 'seniorcitizen',\n",
    " 'partner',\n",
    " 'dependents',\n",
    " 'phoneservice',\n",
    " 'multiplelines',\n",
    " 'internetservice',\n",
    " 'onlinesecurity',\n",
    " 'onlinebackup',\n",
    " 'deviceprotection',\n",
    " 'techsupport',\n",
    " 'streamingtv',\n",
    " 'streamingmovies',\n",
    " 'contract',\n",
    " 'paperlessbilling',\n",
    " 'paymentmethod'\n",
    "]"
   ]
  },
  {
   "cell_type": "code",
   "execution_count": 464,
   "id": "33628754-4f77-4d36-9dba-ff2a8c76746f",
   "metadata": {},
   "outputs": [
    {
     "data": {
      "text/html": [
       "<style>#sk-container-id-6 {\n",
       "  /* Definition of color scheme common for light and dark mode */\n",
       "  --sklearn-color-text: black;\n",
       "  --sklearn-color-line: gray;\n",
       "  /* Definition of color scheme for unfitted estimators */\n",
       "  --sklearn-color-unfitted-level-0: #fff5e6;\n",
       "  --sklearn-color-unfitted-level-1: #f6e4d2;\n",
       "  --sklearn-color-unfitted-level-2: #ffe0b3;\n",
       "  --sklearn-color-unfitted-level-3: chocolate;\n",
       "  /* Definition of color scheme for fitted estimators */\n",
       "  --sklearn-color-fitted-level-0: #f0f8ff;\n",
       "  --sklearn-color-fitted-level-1: #d4ebff;\n",
       "  --sklearn-color-fitted-level-2: #b3dbfd;\n",
       "  --sklearn-color-fitted-level-3: cornflowerblue;\n",
       "\n",
       "  /* Specific color for light theme */\n",
       "  --sklearn-color-text-on-default-background: var(--sg-text-color, var(--theme-code-foreground, var(--jp-content-font-color1, black)));\n",
       "  --sklearn-color-background: var(--sg-background-color, var(--theme-background, var(--jp-layout-color0, white)));\n",
       "  --sklearn-color-border-box: var(--sg-text-color, var(--theme-code-foreground, var(--jp-content-font-color1, black)));\n",
       "  --sklearn-color-icon: #696969;\n",
       "\n",
       "  @media (prefers-color-scheme: dark) {\n",
       "    /* Redefinition of color scheme for dark theme */\n",
       "    --sklearn-color-text-on-default-background: var(--sg-text-color, var(--theme-code-foreground, var(--jp-content-font-color1, white)));\n",
       "    --sklearn-color-background: var(--sg-background-color, var(--theme-background, var(--jp-layout-color0, #111)));\n",
       "    --sklearn-color-border-box: var(--sg-text-color, var(--theme-code-foreground, var(--jp-content-font-color1, white)));\n",
       "    --sklearn-color-icon: #878787;\n",
       "  }\n",
       "}\n",
       "\n",
       "#sk-container-id-6 {\n",
       "  color: var(--sklearn-color-text);\n",
       "}\n",
       "\n",
       "#sk-container-id-6 pre {\n",
       "  padding: 0;\n",
       "}\n",
       "\n",
       "#sk-container-id-6 input.sk-hidden--visually {\n",
       "  border: 0;\n",
       "  clip: rect(1px 1px 1px 1px);\n",
       "  clip: rect(1px, 1px, 1px, 1px);\n",
       "  height: 1px;\n",
       "  margin: -1px;\n",
       "  overflow: hidden;\n",
       "  padding: 0;\n",
       "  position: absolute;\n",
       "  width: 1px;\n",
       "}\n",
       "\n",
       "#sk-container-id-6 div.sk-dashed-wrapped {\n",
       "  border: 1px dashed var(--sklearn-color-line);\n",
       "  margin: 0 0.4em 0.5em 0.4em;\n",
       "  box-sizing: border-box;\n",
       "  padding-bottom: 0.4em;\n",
       "  background-color: var(--sklearn-color-background);\n",
       "}\n",
       "\n",
       "#sk-container-id-6 div.sk-container {\n",
       "  /* jupyter's `normalize.less` sets `[hidden] { display: none; }`\n",
       "     but bootstrap.min.css set `[hidden] { display: none !important; }`\n",
       "     so we also need the `!important` here to be able to override the\n",
       "     default hidden behavior on the sphinx rendered scikit-learn.org.\n",
       "     See: https://github.com/scikit-learn/scikit-learn/issues/21755 */\n",
       "  display: inline-block !important;\n",
       "  position: relative;\n",
       "}\n",
       "\n",
       "#sk-container-id-6 div.sk-text-repr-fallback {\n",
       "  display: none;\n",
       "}\n",
       "\n",
       "div.sk-parallel-item,\n",
       "div.sk-serial,\n",
       "div.sk-item {\n",
       "  /* draw centered vertical line to link estimators */\n",
       "  background-image: linear-gradient(var(--sklearn-color-text-on-default-background), var(--sklearn-color-text-on-default-background));\n",
       "  background-size: 2px 100%;\n",
       "  background-repeat: no-repeat;\n",
       "  background-position: center center;\n",
       "}\n",
       "\n",
       "/* Parallel-specific style estimator block */\n",
       "\n",
       "#sk-container-id-6 div.sk-parallel-item::after {\n",
       "  content: \"\";\n",
       "  width: 100%;\n",
       "  border-bottom: 2px solid var(--sklearn-color-text-on-default-background);\n",
       "  flex-grow: 1;\n",
       "}\n",
       "\n",
       "#sk-container-id-6 div.sk-parallel {\n",
       "  display: flex;\n",
       "  align-items: stretch;\n",
       "  justify-content: center;\n",
       "  background-color: var(--sklearn-color-background);\n",
       "  position: relative;\n",
       "}\n",
       "\n",
       "#sk-container-id-6 div.sk-parallel-item {\n",
       "  display: flex;\n",
       "  flex-direction: column;\n",
       "}\n",
       "\n",
       "#sk-container-id-6 div.sk-parallel-item:first-child::after {\n",
       "  align-self: flex-end;\n",
       "  width: 50%;\n",
       "}\n",
       "\n",
       "#sk-container-id-6 div.sk-parallel-item:last-child::after {\n",
       "  align-self: flex-start;\n",
       "  width: 50%;\n",
       "}\n",
       "\n",
       "#sk-container-id-6 div.sk-parallel-item:only-child::after {\n",
       "  width: 0;\n",
       "}\n",
       "\n",
       "/* Serial-specific style estimator block */\n",
       "\n",
       "#sk-container-id-6 div.sk-serial {\n",
       "  display: flex;\n",
       "  flex-direction: column;\n",
       "  align-items: center;\n",
       "  background-color: var(--sklearn-color-background);\n",
       "  padding-right: 1em;\n",
       "  padding-left: 1em;\n",
       "}\n",
       "\n",
       "\n",
       "/* Toggleable style: style used for estimator/Pipeline/ColumnTransformer box that is\n",
       "clickable and can be expanded/collapsed.\n",
       "- Pipeline and ColumnTransformer use this feature and define the default style\n",
       "- Estimators will overwrite some part of the style using the `sk-estimator` class\n",
       "*/\n",
       "\n",
       "/* Pipeline and ColumnTransformer style (default) */\n",
       "\n",
       "#sk-container-id-6 div.sk-toggleable {\n",
       "  /* Default theme specific background. It is overwritten whether we have a\n",
       "  specific estimator or a Pipeline/ColumnTransformer */\n",
       "  background-color: var(--sklearn-color-background);\n",
       "}\n",
       "\n",
       "/* Toggleable label */\n",
       "#sk-container-id-6 label.sk-toggleable__label {\n",
       "  cursor: pointer;\n",
       "  display: block;\n",
       "  width: 100%;\n",
       "  margin-bottom: 0;\n",
       "  padding: 0.5em;\n",
       "  box-sizing: border-box;\n",
       "  text-align: center;\n",
       "}\n",
       "\n",
       "#sk-container-id-6 label.sk-toggleable__label-arrow:before {\n",
       "  /* Arrow on the left of the label */\n",
       "  content: \"▸\";\n",
       "  float: left;\n",
       "  margin-right: 0.25em;\n",
       "  color: var(--sklearn-color-icon);\n",
       "}\n",
       "\n",
       "#sk-container-id-6 label.sk-toggleable__label-arrow:hover:before {\n",
       "  color: var(--sklearn-color-text);\n",
       "}\n",
       "\n",
       "/* Toggleable content - dropdown */\n",
       "\n",
       "#sk-container-id-6 div.sk-toggleable__content {\n",
       "  max-height: 0;\n",
       "  max-width: 0;\n",
       "  overflow: hidden;\n",
       "  text-align: left;\n",
       "  /* unfitted */\n",
       "  background-color: var(--sklearn-color-unfitted-level-0);\n",
       "}\n",
       "\n",
       "#sk-container-id-6 div.sk-toggleable__content.fitted {\n",
       "  /* fitted */\n",
       "  background-color: var(--sklearn-color-fitted-level-0);\n",
       "}\n",
       "\n",
       "#sk-container-id-6 div.sk-toggleable__content pre {\n",
       "  margin: 0.2em;\n",
       "  border-radius: 0.25em;\n",
       "  color: var(--sklearn-color-text);\n",
       "  /* unfitted */\n",
       "  background-color: var(--sklearn-color-unfitted-level-0);\n",
       "}\n",
       "\n",
       "#sk-container-id-6 div.sk-toggleable__content.fitted pre {\n",
       "  /* unfitted */\n",
       "  background-color: var(--sklearn-color-fitted-level-0);\n",
       "}\n",
       "\n",
       "#sk-container-id-6 input.sk-toggleable__control:checked~div.sk-toggleable__content {\n",
       "  /* Expand drop-down */\n",
       "  max-height: 200px;\n",
       "  max-width: 100%;\n",
       "  overflow: auto;\n",
       "}\n",
       "\n",
       "#sk-container-id-6 input.sk-toggleable__control:checked~label.sk-toggleable__label-arrow:before {\n",
       "  content: \"▾\";\n",
       "}\n",
       "\n",
       "/* Pipeline/ColumnTransformer-specific style */\n",
       "\n",
       "#sk-container-id-6 div.sk-label input.sk-toggleable__control:checked~label.sk-toggleable__label {\n",
       "  color: var(--sklearn-color-text);\n",
       "  background-color: var(--sklearn-color-unfitted-level-2);\n",
       "}\n",
       "\n",
       "#sk-container-id-6 div.sk-label.fitted input.sk-toggleable__control:checked~label.sk-toggleable__label {\n",
       "  background-color: var(--sklearn-color-fitted-level-2);\n",
       "}\n",
       "\n",
       "/* Estimator-specific style */\n",
       "\n",
       "/* Colorize estimator box */\n",
       "#sk-container-id-6 div.sk-estimator input.sk-toggleable__control:checked~label.sk-toggleable__label {\n",
       "  /* unfitted */\n",
       "  background-color: var(--sklearn-color-unfitted-level-2);\n",
       "}\n",
       "\n",
       "#sk-container-id-6 div.sk-estimator.fitted input.sk-toggleable__control:checked~label.sk-toggleable__label {\n",
       "  /* fitted */\n",
       "  background-color: var(--sklearn-color-fitted-level-2);\n",
       "}\n",
       "\n",
       "#sk-container-id-6 div.sk-label label.sk-toggleable__label,\n",
       "#sk-container-id-6 div.sk-label label {\n",
       "  /* The background is the default theme color */\n",
       "  color: var(--sklearn-color-text-on-default-background);\n",
       "}\n",
       "\n",
       "/* On hover, darken the color of the background */\n",
       "#sk-container-id-6 div.sk-label:hover label.sk-toggleable__label {\n",
       "  color: var(--sklearn-color-text);\n",
       "  background-color: var(--sklearn-color-unfitted-level-2);\n",
       "}\n",
       "\n",
       "/* Label box, darken color on hover, fitted */\n",
       "#sk-container-id-6 div.sk-label.fitted:hover label.sk-toggleable__label.fitted {\n",
       "  color: var(--sklearn-color-text);\n",
       "  background-color: var(--sklearn-color-fitted-level-2);\n",
       "}\n",
       "\n",
       "/* Estimator label */\n",
       "\n",
       "#sk-container-id-6 div.sk-label label {\n",
       "  font-family: monospace;\n",
       "  font-weight: bold;\n",
       "  display: inline-block;\n",
       "  line-height: 1.2em;\n",
       "}\n",
       "\n",
       "#sk-container-id-6 div.sk-label-container {\n",
       "  text-align: center;\n",
       "}\n",
       "\n",
       "/* Estimator-specific */\n",
       "#sk-container-id-6 div.sk-estimator {\n",
       "  font-family: monospace;\n",
       "  border: 1px dotted var(--sklearn-color-border-box);\n",
       "  border-radius: 0.25em;\n",
       "  box-sizing: border-box;\n",
       "  margin-bottom: 0.5em;\n",
       "  /* unfitted */\n",
       "  background-color: var(--sklearn-color-unfitted-level-0);\n",
       "}\n",
       "\n",
       "#sk-container-id-6 div.sk-estimator.fitted {\n",
       "  /* fitted */\n",
       "  background-color: var(--sklearn-color-fitted-level-0);\n",
       "}\n",
       "\n",
       "/* on hover */\n",
       "#sk-container-id-6 div.sk-estimator:hover {\n",
       "  /* unfitted */\n",
       "  background-color: var(--sklearn-color-unfitted-level-2);\n",
       "}\n",
       "\n",
       "#sk-container-id-6 div.sk-estimator.fitted:hover {\n",
       "  /* fitted */\n",
       "  background-color: var(--sklearn-color-fitted-level-2);\n",
       "}\n",
       "\n",
       "/* Specification for estimator info (e.g. \"i\" and \"?\") */\n",
       "\n",
       "/* Common style for \"i\" and \"?\" */\n",
       "\n",
       ".sk-estimator-doc-link,\n",
       "a:link.sk-estimator-doc-link,\n",
       "a:visited.sk-estimator-doc-link {\n",
       "  float: right;\n",
       "  font-size: smaller;\n",
       "  line-height: 1em;\n",
       "  font-family: monospace;\n",
       "  background-color: var(--sklearn-color-background);\n",
       "  border-radius: 1em;\n",
       "  height: 1em;\n",
       "  width: 1em;\n",
       "  text-decoration: none !important;\n",
       "  margin-left: 1ex;\n",
       "  /* unfitted */\n",
       "  border: var(--sklearn-color-unfitted-level-1) 1pt solid;\n",
       "  color: var(--sklearn-color-unfitted-level-1);\n",
       "}\n",
       "\n",
       ".sk-estimator-doc-link.fitted,\n",
       "a:link.sk-estimator-doc-link.fitted,\n",
       "a:visited.sk-estimator-doc-link.fitted {\n",
       "  /* fitted */\n",
       "  border: var(--sklearn-color-fitted-level-1) 1pt solid;\n",
       "  color: var(--sklearn-color-fitted-level-1);\n",
       "}\n",
       "\n",
       "/* On hover */\n",
       "div.sk-estimator:hover .sk-estimator-doc-link:hover,\n",
       ".sk-estimator-doc-link:hover,\n",
       "div.sk-label-container:hover .sk-estimator-doc-link:hover,\n",
       ".sk-estimator-doc-link:hover {\n",
       "  /* unfitted */\n",
       "  background-color: var(--sklearn-color-unfitted-level-3);\n",
       "  color: var(--sklearn-color-background);\n",
       "  text-decoration: none;\n",
       "}\n",
       "\n",
       "div.sk-estimator.fitted:hover .sk-estimator-doc-link.fitted:hover,\n",
       ".sk-estimator-doc-link.fitted:hover,\n",
       "div.sk-label-container:hover .sk-estimator-doc-link.fitted:hover,\n",
       ".sk-estimator-doc-link.fitted:hover {\n",
       "  /* fitted */\n",
       "  background-color: var(--sklearn-color-fitted-level-3);\n",
       "  color: var(--sklearn-color-background);\n",
       "  text-decoration: none;\n",
       "}\n",
       "\n",
       "/* Span, style for the box shown on hovering the info icon */\n",
       ".sk-estimator-doc-link span {\n",
       "  display: none;\n",
       "  z-index: 9999;\n",
       "  position: relative;\n",
       "  font-weight: normal;\n",
       "  right: .2ex;\n",
       "  padding: .5ex;\n",
       "  margin: .5ex;\n",
       "  width: min-content;\n",
       "  min-width: 20ex;\n",
       "  max-width: 50ex;\n",
       "  color: var(--sklearn-color-text);\n",
       "  box-shadow: 2pt 2pt 4pt #999;\n",
       "  /* unfitted */\n",
       "  background: var(--sklearn-color-unfitted-level-0);\n",
       "  border: .5pt solid var(--sklearn-color-unfitted-level-3);\n",
       "}\n",
       "\n",
       ".sk-estimator-doc-link.fitted span {\n",
       "  /* fitted */\n",
       "  background: var(--sklearn-color-fitted-level-0);\n",
       "  border: var(--sklearn-color-fitted-level-3);\n",
       "}\n",
       "\n",
       ".sk-estimator-doc-link:hover span {\n",
       "  display: block;\n",
       "}\n",
       "\n",
       "/* \"?\"-specific style due to the `<a>` HTML tag */\n",
       "\n",
       "#sk-container-id-6 a.estimator_doc_link {\n",
       "  float: right;\n",
       "  font-size: 1rem;\n",
       "  line-height: 1em;\n",
       "  font-family: monospace;\n",
       "  background-color: var(--sklearn-color-background);\n",
       "  border-radius: 1rem;\n",
       "  height: 1rem;\n",
       "  width: 1rem;\n",
       "  text-decoration: none;\n",
       "  /* unfitted */\n",
       "  color: var(--sklearn-color-unfitted-level-1);\n",
       "  border: var(--sklearn-color-unfitted-level-1) 1pt solid;\n",
       "}\n",
       "\n",
       "#sk-container-id-6 a.estimator_doc_link.fitted {\n",
       "  /* fitted */\n",
       "  border: var(--sklearn-color-fitted-level-1) 1pt solid;\n",
       "  color: var(--sklearn-color-fitted-level-1);\n",
       "}\n",
       "\n",
       "/* On hover */\n",
       "#sk-container-id-6 a.estimator_doc_link:hover {\n",
       "  /* unfitted */\n",
       "  background-color: var(--sklearn-color-unfitted-level-3);\n",
       "  color: var(--sklearn-color-background);\n",
       "  text-decoration: none;\n",
       "}\n",
       "\n",
       "#sk-container-id-6 a.estimator_doc_link.fitted:hover {\n",
       "  /* fitted */\n",
       "  background-color: var(--sklearn-color-fitted-level-3);\n",
       "}\n",
       "</style><div id=\"sk-container-id-6\" class=\"sk-top-container\"><div class=\"sk-text-repr-fallback\"><pre>LogisticRegression()</pre><b>In a Jupyter environment, please rerun this cell to show the HTML representation or trust the notebook. <br />On GitHub, the HTML representation is unable to render, please try loading this page with nbviewer.org.</b></div><div class=\"sk-container\" hidden><div class=\"sk-item\"><div class=\"sk-estimator fitted sk-toggleable\"><input class=\"sk-toggleable__control sk-hidden--visually\" id=\"sk-estimator-id-6\" type=\"checkbox\" checked><label for=\"sk-estimator-id-6\" class=\"sk-toggleable__label fitted sk-toggleable__label-arrow fitted\">&nbsp;&nbsp;LogisticRegression<a class=\"sk-estimator-doc-link fitted\" rel=\"noreferrer\" target=\"_blank\" href=\"https://scikit-learn.org/1.5/modules/generated/sklearn.linear_model.LogisticRegression.html\">?<span>Documentation for LogisticRegression</span></a><span class=\"sk-estimator-doc-link fitted\">i<span>Fitted</span></span></label><div class=\"sk-toggleable__content fitted\"><pre>LogisticRegression()</pre></div> </div></div></div></div>"
      ],
      "text/plain": [
       "LogisticRegression()"
      ]
     },
     "execution_count": 464,
     "metadata": {},
     "output_type": "execute_result"
    }
   ],
   "source": [
    "# Transform Data, Train \n",
    "\n",
    "dv = DictVectorizer(sparse=False)\n",
    "\n",
    "train_dict = df_train[categorical + numerical].to_dict(orient='records')\n",
    "X_train = dv.fit_transform(train_dict)\n",
    "\n",
    "model = LogisticRegression()\n",
    "model.fit(X_train, y_train)"
   ]
  },
  {
   "cell_type": "code",
   "execution_count": 465,
   "id": "aa00790f-c969-43a1-87ec-ad662f55e8e7",
   "metadata": {},
   "outputs": [
    {
     "data": {
      "text/plain": [
       "0.8034066713981547"
      ]
     },
     "execution_count": 465,
     "metadata": {},
     "output_type": "execute_result"
    }
   ],
   "source": [
    "# Validate and Predict\n",
    "\n",
    "val_dict = df_val[categorical + numerical].to_dict(orient='records')\n",
    "X_val = dv.transform(val_dict)\n",
    "\n",
    "y_pred = model.predict_proba(X_val)[:, 1]\n",
    "\n",
    "churn_decision = (y_pred >= 0.5)\n",
    "accuracy_score(y_val, churn_decision)"
   ]
  },
  {
   "cell_type": "code",
   "execution_count": null,
   "id": "4352cbe5-73d0-4713-8089-49230d56f604",
   "metadata": {},
   "outputs": [],
   "source": []
  },
  {
   "cell_type": "code",
   "execution_count": 466,
   "id": "ab902a78-a683-4e8b-823f-5d81c4e1540f",
   "metadata": {},
   "outputs": [
    {
     "data": {
      "text/plain": [
       "array([0.  , 0.05, 0.1 , 0.15, 0.2 , 0.25, 0.3 , 0.35, 0.4 , 0.45, 0.5 ,\n",
       "       0.55, 0.6 , 0.65, 0.7 , 0.75, 0.8 , 0.85, 0.9 , 0.95, 1.  ])"
      ]
     },
     "execution_count": 466,
     "metadata": {},
     "output_type": "execute_result"
    }
   ],
   "source": [
    "# vary decision thresholds and check if we have chosen the right one?\n",
    "thresholds = np.linspace(0, 1, 21)\n",
    "thresholds"
   ]
  },
  {
   "cell_type": "code",
   "execution_count": 467,
   "id": "6f7f6a2f-f2c7-4e48-b377-042401c7d2cd",
   "metadata": {},
   "outputs": [
    {
     "name": "stdout",
     "output_type": "stream",
     "text": [
      "Accuracy for threshold 0.00: 0.274\n",
      "Accuracy for threshold 0.05: 0.509\n",
      "Accuracy for threshold 0.10: 0.591\n",
      "Accuracy for threshold 0.15: 0.667\n",
      "Accuracy for threshold 0.20: 0.710\n",
      "Accuracy for threshold 0.25: 0.738\n",
      "Accuracy for threshold 0.30: 0.760\n",
      "Accuracy for threshold 0.35: 0.772\n",
      "Accuracy for threshold 0.40: 0.785\n",
      "Accuracy for threshold 0.45: 0.794\n",
      "Accuracy for threshold 0.50: 0.803\n",
      "Accuracy for threshold 0.55: 0.801\n",
      "Accuracy for threshold 0.60: 0.795\n",
      "Accuracy for threshold 0.65: 0.786\n",
      "Accuracy for threshold 0.70: 0.765\n",
      "Accuracy for threshold 0.75: 0.744\n",
      "Accuracy for threshold 0.80: 0.735\n",
      "Accuracy for threshold 0.85: 0.726\n",
      "Accuracy for threshold 0.90: 0.726\n",
      "Accuracy for threshold 0.95: 0.726\n",
      "Accuracy for threshold 1.00: 0.726\n"
     ]
    }
   ],
   "source": [
    "accuracies = []\n",
    "for t in thresholds:\n",
    "    churn_decision = (y_pred >= t)\n",
    "    accuracy = accuracy_score(y_val, churn_decision)\n",
    "    accuracies.append(accuracy)\n",
    "    print(f\"Accuracy for threshold {t:.2f}: {accuracy:.3f}\")"
   ]
  },
  {
   "cell_type": "code",
   "execution_count": 468,
   "id": "308f3048-bf46-4f83-a7bd-f5709e6466e3",
   "metadata": {},
   "outputs": [
    {
     "data": {
      "text/plain": [
       "[<matplotlib.lines.Line2D at 0x16cef3950>]"
      ]
     },
     "execution_count": 468,
     "metadata": {},
     "output_type": "execute_result"
    },
    {
     "data": {
      "image/png": "[encoded data removed]",
      "text/plain": [
       "<Figure size 640x480 with 1 Axes>"
      ]
     },
     "metadata": {},
     "output_type": "display_data"
    }
   ],
   "source": [
    "# Plot\n",
    "plt.plot(thresholds, accuracies)"
   ]
  },
  {
   "cell_type": "code",
   "execution_count": 469,
   "id": "a088bee2-f224-4551-95c2-b582229e0270",
   "metadata": {},
   "outputs": [],
   "source": [
    "# -> Indicates 0.5 is the best "
   ]
  },
  {
   "cell_type": "code",
   "execution_count": 470,
   "id": "c2a551cd-fe5d-4e4b-968e-24e762e89d11",
   "metadata": {},
   "outputs": [],
   "source": [
    "# what's interesting. Customers are churning for > 1\n",
    "# for 1 , if we can have a dummy model , we still get 73% .. our model trained is a mere 7% increase. \n",
    "# Accuracy isn't enough"
   ]
  },
  {
   "cell_type": "code",
   "execution_count": 471,
   "id": "67a7a8d3-fc72-43b2-9a3a-c7c6f7dc2d74",
   "metadata": {},
   "outputs": [],
   "source": [
    "from collections import Counter"
   ]
  },
  {
   "cell_type": "code",
   "execution_count": 472,
   "id": "50c5847b-8ab5-4907-a916-0690ce81824e",
   "metadata": {},
   "outputs": [
    {
     "data": {
      "text/plain": [
       "Counter({np.False_: 1409})"
      ]
     },
     "execution_count": 472,
     "metadata": {},
     "output_type": "execute_result"
    }
   ],
   "source": [
    "Counter(y_pred >= 1)"
   ]
  },
  {
   "cell_type": "code",
   "execution_count": 473,
   "id": "f74cd590-6f3d-4036-95f8-1cd79f9e18c5",
   "metadata": {},
   "outputs": [],
   "source": [
    "# => Class imbalance: diagnosed with cancer.. accuracies can be quite misleading here.."
   ]
  },
  {
   "cell_type": "code",
   "execution_count": null,
   "id": "bb7ef6f8-f8ba-45b5-8205-eaa85d4b5700",
   "metadata": {},
   "outputs": [],
   "source": []
  },
  {
   "cell_type": "markdown",
   "id": "39ed60f8-842a-4d92-b321-035a0b1af0b2",
   "metadata": {},
   "source": [
    "# 4.3 Confusion table."
   ]
  },
  {
   "cell_type": "code",
   "execution_count": 474,
   "id": "600bcb76-ce8f-4322-9ab3-7ecdf411747a",
   "metadata": {},
   "outputs": [],
   "source": [
    "# Different types of errors and correct decisions"
   ]
  },
  {
   "cell_type": "code",
   "execution_count": 475,
   "id": "25bbc8eb-d919-4971-9381-865d67304ac3",
   "metadata": {},
   "outputs": [
    {
     "data": {
      "text/plain": [
       "'\\nTrue Positive: Positive Class (predicted) and correctly identified (actual)\\nFalse Positive: Positive Class (predicted) , but incorrectly identified (actual) => Incorrectly identified as a Positive Prediction Class\\nTrue Negative: Negative Class (predicted), correctly identified (actual) \\nFalse Negative: Negative Class (predicted), incorrectly identified (actual) => Incorrectly identified as a Negative Prediction Class\\n'"
      ]
     },
     "execution_count": 475,
     "metadata": {},
     "output_type": "execute_result"
    }
   ],
   "source": [
    "\"\"\"\n",
    "True Positive: Positive Class (predicted) and correctly identified (actual)\n",
    "False Positive: Positive Class (predicted) , but incorrectly identified (actual) => Incorrectly identified as a Positive Prediction Class\n",
    "True Negative: Negative Class (predicted), correctly identified (actual) \n",
    "False Negative: Negative Class (predicted), incorrectly identified (actual) => Incorrectly identified as a Negative Prediction Class\n",
    "\"\"\""
   ]
  },
  {
   "cell_type": "markdown",
   "id": "1ca1f431-e1ef-4ff0-8f31-63faf64bf122",
   "metadata": {},
   "source": [
    "```\n",
    "TP: y=1, g(x) >= t\n",
    "TN: y=0, g(x) < t\n",
    "FP: y=0, g(x) >= t\n",
    "FN: y=1, g(x) < t\n",
    "```"
   ]
  },
  {
   "cell_type": "code",
   "execution_count": 476,
   "id": "e0ff0e24-934c-4028-aec3-c01bdc4da905",
   "metadata": {},
   "outputs": [],
   "source": [
    "actual_positive = (y_val == 1)\n",
    "actual_negative = (y_val == 0)"
   ]
  },
  {
   "cell_type": "code",
   "execution_count": 477,
   "id": "9c59da6c-1038-4062-bbf8-67300bca51a3",
   "metadata": {},
   "outputs": [],
   "source": [
    "t = 0.5\n",
    "predict_positive = y_pred >= t\n",
    "predict_negative = y_pred < t"
   ]
  },
  {
   "cell_type": "code",
   "execution_count": 478,
   "id": "e8f64826-b08b-4a31-8035-b7929cc3023f",
   "metadata": {},
   "outputs": [],
   "source": [
    "tp = (actual_positive & predict_positive).sum()\n",
    "tn = (actual_negative & predict_negative).sum()\n",
    "fp = (actual_negative & predict_positive).sum()\n",
    "fn = (actual_positive & predict_negative).sum()"
   ]
  },
  {
   "cell_type": "code",
   "execution_count": 479,
   "id": "96a6aad2-76f6-4028-a409-6911822819e8",
   "metadata": {},
   "outputs": [
    {
     "data": {
      "text/plain": [
       "(np.int64(210), np.int64(922), np.int64(101), np.int64(176))"
      ]
     },
     "execution_count": 479,
     "metadata": {},
     "output_type": "execute_result"
    }
   ],
   "source": [
    "tp, tn, fp, fn"
   ]
  },
  {
   "cell_type": "code",
   "execution_count": 480,
   "id": "9839c208-5629-4732-be30-1dda404785a9",
   "metadata": {},
   "outputs": [
    {
     "data": {
      "text/plain": [
       "array([[922, 101],\n",
       "       [176, 210]])"
      ]
     },
     "execution_count": 480,
     "metadata": {},
     "output_type": "execute_result"
    }
   ],
   "source": [
    "confusion_matrix = np.array([\n",
    "    [tn, fp],\n",
    "    [fn, tp]\n",
    "])\n",
    "confusion_matrix"
   ]
  },
  {
   "cell_type": "code",
   "execution_count": 481,
   "id": "9eb392dd-6c62-4c86-98b8-6ea662bf064c",
   "metadata": {},
   "outputs": [
    {
     "data": {
      "text/plain": [
       "array([[0.65, 0.07],\n",
       "       [0.12, 0.15]])"
      ]
     },
     "execution_count": 481,
     "metadata": {},
     "output_type": "execute_result"
    }
   ],
   "source": [
    "(confusion_matrix / confusion_matrix.sum()).round(2)"
   ]
  },
  {
   "cell_type": "code",
   "execution_count": 482,
   "id": "1f7f41a7-e730-400f-b769-5c9bc1f46b0d",
   "metadata": {},
   "outputs": [],
   "source": [
    "# 4.4 Precision and Recall\n",
    "\n"
   ]
  },
  {
   "cell_type": "code",
   "execution_count": 483,
   "id": "73cf9719-1410-46a5-ae51-52829e143d92",
   "metadata": {},
   "outputs": [
    {
     "data": {
      "text/plain": [
       "np.float64(0.8034066713981547)"
      ]
     },
     "execution_count": 483,
     "metadata": {},
     "output_type": "execute_result"
    }
   ],
   "source": [
    "acc = (tp + tn) / (tp + tn + fp + fn)\n",
    "acc"
   ]
  },
  {
   "cell_type": "code",
   "execution_count": 484,
   "id": "cb6b55fd-a90f-415b-a5b4-f7224655f550",
   "metadata": {},
   "outputs": [],
   "source": [
    "# Precision : interested in who are churning under the positive class. (fraction of positively predicted) . \n",
    "# Highlights how effective the discount provided was. "
   ]
  },
  {
   "cell_type": "code",
   "execution_count": 485,
   "id": "4c0d961c-5f2f-49c0-9082-2f4e984ef6ab",
   "metadata": {},
   "outputs": [
    {
     "data": {
      "text/plain": [
       "np.float64(0.6752411575562701)"
      ]
     },
     "execution_count": 485,
     "metadata": {},
     "output_type": "execute_result"
    }
   ],
   "source": [
    "precision = tp / (tp + fp)\n",
    "precision"
   ]
  },
  {
   "cell_type": "code",
   "execution_count": 486,
   "id": "1116ff3b-d9f0-425f-b1a9-e3c1d862f551",
   "metadata": {},
   "outputs": [
    {
     "data": {
      "text/plain": [
       "np.float64(0.5440414507772021)"
      ]
     },
     "execution_count": 486,
     "metadata": {},
     "output_type": "execute_result"
    }
   ],
   "source": [
    "# Recall : Interested only who are churning either in positive or negative.\n",
    "# highlights how effective our model is to identify churners.\n",
    "recall = tp / (tp + fn)\n",
    "recall"
   ]
  },
  {
   "cell_type": "code",
   "execution_count": 487,
   "id": "c6657f88-b9a9-45d3-a969-1208ffd14c87",
   "metadata": {},
   "outputs": [],
   "source": [
    "# Looking at precision and recall, our model isn't that good.\n"
   ]
  },
  {
   "cell_type": "markdown",
   "id": "dd258b9b-6aed-4744-9198-9ba5998f0826",
   "metadata": {},
   "source": [
    "# 4.5 ROC Curves (Receiver Operating Characteristics)"
   ]
  },
  {
   "cell_type": "code",
   "execution_count": 488,
   "id": "86413378-e6c8-4c53-8c9a-902878a6769f",
   "metadata": {},
   "outputs": [],
   "source": [
    "# Radar  ==> Plane"
   ]
  },
  {
   "cell_type": "code",
   "execution_count": 489,
   "id": "c291a97a-917a-430f-a9f0-80f01a0e0188",
   "metadata": {},
   "outputs": [
    {
     "data": {
      "text/plain": [
       "np.float64(0.5440414507772021)"
      ]
     },
     "execution_count": 489,
     "metadata": {},
     "output_type": "execute_result"
    }
   ],
   "source": [
    "tpr = tp / (tp + fn)\n",
    "tpr # same as recall"
   ]
  },
  {
   "cell_type": "code",
   "execution_count": 490,
   "id": "159d2344-cff7-4ecb-8f64-bcb770f743bd",
   "metadata": {},
   "outputs": [
    {
     "data": {
      "text/plain": [
       "np.float64(0.09872922776148582)"
      ]
     },
     "execution_count": 490,
     "metadata": {},
     "output_type": "execute_result"
    }
   ],
   "source": [
    "fpr = fp / (fp + tn)\n",
    "fpr"
   ]
  },
  {
   "cell_type": "code",
   "execution_count": 491,
   "id": "8fd3330c-e0ad-4de7-a0be-0dcbdf3938f2",
   "metadata": {},
   "outputs": [],
   "source": [
    "# idea is to minimize FPR and maximize TPR"
   ]
  },
  {
   "cell_type": "code",
   "execution_count": 492,
   "id": "51e98772-db28-48fb-8fa4-fd0c4c2da85f",
   "metadata": {},
   "outputs": [],
   "source": [
    "thresholds = np.linspace(0, 1, 101)\n",
    "\n",
    "scores = []\n",
    "for t in thresholds:\n",
    "    actual_positive = (y_val == 1)\n",
    "    actual_negative = (y_val == 0)\n",
    "\n",
    "    predict_positive = y_pred >= t\n",
    "    predict_negative = y_pred < t\n",
    "\n",
    "    tp = (actual_positive & predict_positive).sum()\n",
    "    tn = (actual_negative & predict_negative).sum()\n",
    "    fp = (actual_negative & predict_positive).sum()\n",
    "    fn = (actual_positive & predict_negative).sum()\n",
    "\n",
    "    tpr = tp / (tp + fn)\n",
    "    fpr = fp / (fp + tn)\n",
    "\n",
    "    scores.append((t, tp, tn, fp, fn, tpr, fpr))\n",
    "    "
   ]
  },
  {
   "cell_type": "code",
   "execution_count": 493,
   "id": "73f0ac7b-13a4-4945-a380-1e32bad5084c",
   "metadata": {},
   "outputs": [
    {
     "data": {
      "text/html": [
       "<div>\n",
       "<style scoped>\n",
       "    .dataframe tbody tr th:only-of-type {\n",
       "        vertical-align: middle;\n",
       "    }\n",
       "\n",
       "    .dataframe tbody tr th {\n",
       "        vertical-align: top;\n",
       "    }\n",
       "\n",
       "    .dataframe thead th {\n",
       "        text-align: right;\n",
       "    }\n",
       "</style>\n",
       "<table border=\"1\" class=\"dataframe\">\n",
       "  <thead>\n",
       "    <tr style=\"text-align: right;\">\n",
       "      <th></th>\n",
       "      <th>t</th>\n",
       "      <th>tp</th>\n",
       "      <th>tn</th>\n",
       "      <th>fp</th>\n",
       "      <th>fn</th>\n",
       "      <th>tpr</th>\n",
       "      <th>fpr</th>\n",
       "    </tr>\n",
       "  </thead>\n",
       "  <tbody>\n",
       "    <tr>\n",
       "      <th>0</th>\n",
       "      <td>0.0</td>\n",
       "      <td>386</td>\n",
       "      <td>0</td>\n",
       "      <td>1023</td>\n",
       "      <td>0</td>\n",
       "      <td>1.000000</td>\n",
       "      <td>1.000000</td>\n",
       "    </tr>\n",
       "    <tr>\n",
       "      <th>10</th>\n",
       "      <td>0.1</td>\n",
       "      <td>366</td>\n",
       "      <td>467</td>\n",
       "      <td>556</td>\n",
       "      <td>20</td>\n",
       "      <td>0.948187</td>\n",
       "      <td>0.543500</td>\n",
       "    </tr>\n",
       "    <tr>\n",
       "      <th>20</th>\n",
       "      <td>0.2</td>\n",
       "      <td>333</td>\n",
       "      <td>667</td>\n",
       "      <td>356</td>\n",
       "      <td>53</td>\n",
       "      <td>0.862694</td>\n",
       "      <td>0.347996</td>\n",
       "    </tr>\n",
       "    <tr>\n",
       "      <th>30</th>\n",
       "      <td>0.3</td>\n",
       "      <td>284</td>\n",
       "      <td>787</td>\n",
       "      <td>236</td>\n",
       "      <td>102</td>\n",
       "      <td>0.735751</td>\n",
       "      <td>0.230694</td>\n",
       "    </tr>\n",
       "    <tr>\n",
       "      <th>40</th>\n",
       "      <td>0.4</td>\n",
       "      <td>249</td>\n",
       "      <td>857</td>\n",
       "      <td>166</td>\n",
       "      <td>137</td>\n",
       "      <td>0.645078</td>\n",
       "      <td>0.162268</td>\n",
       "    </tr>\n",
       "    <tr>\n",
       "      <th>50</th>\n",
       "      <td>0.5</td>\n",
       "      <td>210</td>\n",
       "      <td>922</td>\n",
       "      <td>101</td>\n",
       "      <td>176</td>\n",
       "      <td>0.544041</td>\n",
       "      <td>0.098729</td>\n",
       "    </tr>\n",
       "    <tr>\n",
       "      <th>60</th>\n",
       "      <td>0.6</td>\n",
       "      <td>150</td>\n",
       "      <td>970</td>\n",
       "      <td>53</td>\n",
       "      <td>236</td>\n",
       "      <td>0.388601</td>\n",
       "      <td>0.051808</td>\n",
       "    </tr>\n",
       "    <tr>\n",
       "      <th>70</th>\n",
       "      <td>0.7</td>\n",
       "      <td>75</td>\n",
       "      <td>1003</td>\n",
       "      <td>20</td>\n",
       "      <td>311</td>\n",
       "      <td>0.194301</td>\n",
       "      <td>0.019550</td>\n",
       "    </tr>\n",
       "    <tr>\n",
       "      <th>80</th>\n",
       "      <td>0.8</td>\n",
       "      <td>13</td>\n",
       "      <td>1022</td>\n",
       "      <td>1</td>\n",
       "      <td>373</td>\n",
       "      <td>0.033679</td>\n",
       "      <td>0.000978</td>\n",
       "    </tr>\n",
       "    <tr>\n",
       "      <th>90</th>\n",
       "      <td>0.9</td>\n",
       "      <td>0</td>\n",
       "      <td>1023</td>\n",
       "      <td>0</td>\n",
       "      <td>386</td>\n",
       "      <td>0.000000</td>\n",
       "      <td>0.000000</td>\n",
       "    </tr>\n",
       "    <tr>\n",
       "      <th>100</th>\n",
       "      <td>1.0</td>\n",
       "      <td>0</td>\n",
       "      <td>1023</td>\n",
       "      <td>0</td>\n",
       "      <td>386</td>\n",
       "      <td>0.000000</td>\n",
       "      <td>0.000000</td>\n",
       "    </tr>\n",
       "  </tbody>\n",
       "</table>\n",
       "</div>"
      ],
      "text/plain": [
       "       t   tp    tn    fp   fn       tpr       fpr\n",
       "0    0.0  386     0  1023    0  1.000000  1.000000\n",
       "10   0.1  366   467   556   20  0.948187  0.543500\n",
       "20   0.2  333   667   356   53  0.862694  0.347996\n",
       "30   0.3  284   787   236  102  0.735751  0.230694\n",
       "40   0.4  249   857   166  137  0.645078  0.162268\n",
       "50   0.5  210   922   101  176  0.544041  0.098729\n",
       "60   0.6  150   970    53  236  0.388601  0.051808\n",
       "70   0.7   75  1003    20  311  0.194301  0.019550\n",
       "80   0.8   13  1022     1  373  0.033679  0.000978\n",
       "90   0.9    0  1023     0  386  0.000000  0.000000\n",
       "100  1.0    0  1023     0  386  0.000000  0.000000"
      ]
     },
     "execution_count": 493,
     "metadata": {},
     "output_type": "execute_result"
    }
   ],
   "source": [
    "df_scores = pd.DataFrame(scores, columns=['t', 'tp', 'tn', 'fp', 'fn', 'tpr', 'fpr'])\n",
    "df_scores[::10]"
   ]
  },
  {
   "cell_type": "code",
   "execution_count": 494,
   "id": "cf85de74-b34c-4d1c-9b41-23ef511ebf35",
   "metadata": {},
   "outputs": [
    {
     "data": {
      "text/plain": [
       "<matplotlib.legend.Legend at 0x166c99710>"
      ]
     },
     "execution_count": 494,
     "metadata": {},
     "output_type": "execute_result"
    },
    {
     "data": {
      "image/png": "[encoded data removed]",
      "text/plain": [
       "<Figure size 640x480 with 1 Axes>"
      ]
     },
     "metadata": {},
     "output_type": "display_data"
    }
   ],
   "source": [
    "plt.plot(df_scores.t, df_scores['tpr'], label='TPR')\n",
    "plt.plot(df_scores.t, df_scores['fpr'], label='FPR')\n",
    "plt.legend()"
   ]
  },
  {
   "cell_type": "code",
   "execution_count": null,
   "id": "4e9edb65-fa9b-452c-885c-23742042debd",
   "metadata": {},
   "outputs": [],
   "source": []
  },
  {
   "cell_type": "markdown",
   "id": "dd72656b-591a-4e9a-b039-9ccf09062ff7",
   "metadata": {},
   "source": [
    "#### Random Model"
   ]
  },
  {
   "cell_type": "code",
   "execution_count": 495,
   "id": "cb0cea77-0882-46b7-8f0a-86383798aab8",
   "metadata": {},
   "outputs": [],
   "source": [
    "np.random.seed(1)\n",
    "y_rand = np.random.uniform(0, 1, size=len(y_val))"
   ]
  },
  {
   "cell_type": "code",
   "execution_count": 496,
   "id": "12bef6a1-6baa-48fd-b915-7f12bfcf56c1",
   "metadata": {},
   "outputs": [
    {
     "data": {
      "text/plain": [
       "np.float64(0.5017743080198722)"
      ]
     },
     "execution_count": 496,
     "metadata": {},
     "output_type": "execute_result"
    }
   ],
   "source": [
    "((y_rand >= 0.5) == y_val).mean()"
   ]
  },
  {
   "cell_type": "code",
   "execution_count": 497,
   "id": "c9c8e160-faef-421a-9059-f872a62d38ce",
   "metadata": {},
   "outputs": [],
   "source": [
    "def get_tpr_fpr_df(y_val, y_pred):\n",
    "    thresholds = np.linspace(0, 1, 101)\n",
    "    \n",
    "    scores = []\n",
    "    for t in thresholds:\n",
    "        actual_positive = (y_val == 1)\n",
    "        actual_negative = (y_val == 0)\n",
    "    \n",
    "        predict_positive = y_pred >= t\n",
    "        predict_negative = y_pred < t\n",
    "    \n",
    "        tp = (actual_positive & predict_positive).sum()\n",
    "        tn = (actual_negative & predict_negative).sum()\n",
    "        fp = (actual_negative & predict_positive).sum()\n",
    "        fn = (actual_positive & predict_negative).sum()\n",
    "    \n",
    "        tpr = tp / (tp + fn)\n",
    "        fpr = fp / (fp + tn)\n",
    "    \n",
    "        scores.append((t, tp, tn, fp, fn, tpr, fpr))\n",
    "\n",
    "    df_scores = pd.DataFrame(scores, columns=['t', 'tp', 'tn', 'fp', 'fn', 'tpr', 'fpr'])\n",
    "    return df_scores"
   ]
  },
  {
   "cell_type": "code",
   "execution_count": 498,
   "id": "7ded8ae1-ce6b-4280-9116-384d16f11f8f",
   "metadata": {},
   "outputs": [],
   "source": [
    "df_rand = get_tpr_fpr_df(y_val, y_rand)"
   ]
  },
  {
   "cell_type": "code",
   "execution_count": 499,
   "id": "7bb9b604-b176-4c5b-b3b7-c12300130d0c",
   "metadata": {},
   "outputs": [
    {
     "data": {
      "text/html": [
       "<div>\n",
       "<style scoped>\n",
       "    .dataframe tbody tr th:only-of-type {\n",
       "        vertical-align: middle;\n",
       "    }\n",
       "\n",
       "    .dataframe tbody tr th {\n",
       "        vertical-align: top;\n",
       "    }\n",
       "\n",
       "    .dataframe thead th {\n",
       "        text-align: right;\n",
       "    }\n",
       "</style>\n",
       "<table border=\"1\" class=\"dataframe\">\n",
       "  <thead>\n",
       "    <tr style=\"text-align: right;\">\n",
       "      <th></th>\n",
       "      <th>t</th>\n",
       "      <th>tp</th>\n",
       "      <th>tn</th>\n",
       "      <th>fp</th>\n",
       "      <th>fn</th>\n",
       "      <th>tpr</th>\n",
       "      <th>fpr</th>\n",
       "    </tr>\n",
       "  </thead>\n",
       "  <tbody>\n",
       "    <tr>\n",
       "      <th>0</th>\n",
       "      <td>0.0</td>\n",
       "      <td>386</td>\n",
       "      <td>0</td>\n",
       "      <td>1023</td>\n",
       "      <td>0</td>\n",
       "      <td>1.000000</td>\n",
       "      <td>1.000000</td>\n",
       "    </tr>\n",
       "    <tr>\n",
       "      <th>10</th>\n",
       "      <td>0.1</td>\n",
       "      <td>347</td>\n",
       "      <td>100</td>\n",
       "      <td>923</td>\n",
       "      <td>39</td>\n",
       "      <td>0.898964</td>\n",
       "      <td>0.902248</td>\n",
       "    </tr>\n",
       "    <tr>\n",
       "      <th>20</th>\n",
       "      <td>0.2</td>\n",
       "      <td>307</td>\n",
       "      <td>201</td>\n",
       "      <td>822</td>\n",
       "      <td>79</td>\n",
       "      <td>0.795337</td>\n",
       "      <td>0.803519</td>\n",
       "    </tr>\n",
       "    <tr>\n",
       "      <th>30</th>\n",
       "      <td>0.3</td>\n",
       "      <td>276</td>\n",
       "      <td>299</td>\n",
       "      <td>724</td>\n",
       "      <td>110</td>\n",
       "      <td>0.715026</td>\n",
       "      <td>0.707722</td>\n",
       "    </tr>\n",
       "    <tr>\n",
       "      <th>40</th>\n",
       "      <td>0.4</td>\n",
       "      <td>237</td>\n",
       "      <td>399</td>\n",
       "      <td>624</td>\n",
       "      <td>149</td>\n",
       "      <td>0.613990</td>\n",
       "      <td>0.609971</td>\n",
       "    </tr>\n",
       "    <tr>\n",
       "      <th>50</th>\n",
       "      <td>0.5</td>\n",
       "      <td>202</td>\n",
       "      <td>505</td>\n",
       "      <td>518</td>\n",
       "      <td>184</td>\n",
       "      <td>0.523316</td>\n",
       "      <td>0.506354</td>\n",
       "    </tr>\n",
       "    <tr>\n",
       "      <th>60</th>\n",
       "      <td>0.6</td>\n",
       "      <td>161</td>\n",
       "      <td>614</td>\n",
       "      <td>409</td>\n",
       "      <td>225</td>\n",
       "      <td>0.417098</td>\n",
       "      <td>0.399804</td>\n",
       "    </tr>\n",
       "    <tr>\n",
       "      <th>70</th>\n",
       "      <td>0.7</td>\n",
       "      <td>121</td>\n",
       "      <td>721</td>\n",
       "      <td>302</td>\n",
       "      <td>265</td>\n",
       "      <td>0.313472</td>\n",
       "      <td>0.295210</td>\n",
       "    </tr>\n",
       "    <tr>\n",
       "      <th>80</th>\n",
       "      <td>0.8</td>\n",
       "      <td>78</td>\n",
       "      <td>817</td>\n",
       "      <td>206</td>\n",
       "      <td>308</td>\n",
       "      <td>0.202073</td>\n",
       "      <td>0.201369</td>\n",
       "    </tr>\n",
       "    <tr>\n",
       "      <th>90</th>\n",
       "      <td>0.9</td>\n",
       "      <td>40</td>\n",
       "      <td>922</td>\n",
       "      <td>101</td>\n",
       "      <td>346</td>\n",
       "      <td>0.103627</td>\n",
       "      <td>0.098729</td>\n",
       "    </tr>\n",
       "    <tr>\n",
       "      <th>100</th>\n",
       "      <td>1.0</td>\n",
       "      <td>0</td>\n",
       "      <td>1023</td>\n",
       "      <td>0</td>\n",
       "      <td>386</td>\n",
       "      <td>0.000000</td>\n",
       "      <td>0.000000</td>\n",
       "    </tr>\n",
       "  </tbody>\n",
       "</table>\n",
       "</div>"
      ],
      "text/plain": [
       "       t   tp    tn    fp   fn       tpr       fpr\n",
       "0    0.0  386     0  1023    0  1.000000  1.000000\n",
       "10   0.1  347   100   923   39  0.898964  0.902248\n",
       "20   0.2  307   201   822   79  0.795337  0.803519\n",
       "30   0.3  276   299   724  110  0.715026  0.707722\n",
       "40   0.4  237   399   624  149  0.613990  0.609971\n",
       "50   0.5  202   505   518  184  0.523316  0.506354\n",
       "60   0.6  161   614   409  225  0.417098  0.399804\n",
       "70   0.7  121   721   302  265  0.313472  0.295210\n",
       "80   0.8   78   817   206  308  0.202073  0.201369\n",
       "90   0.9   40   922   101  346  0.103627  0.098729\n",
       "100  1.0    0  1023     0  386  0.000000  0.000000"
      ]
     },
     "execution_count": 499,
     "metadata": {},
     "output_type": "execute_result"
    }
   ],
   "source": [
    "df_rand[::10]"
   ]
  },
  {
   "cell_type": "code",
   "execution_count": 500,
   "id": "2751ce1f-4177-49d6-9209-d438f2dc7244",
   "metadata": {},
   "outputs": [
    {
     "data": {
      "text/plain": [
       "<matplotlib.legend.Legend at 0x167249c50>"
      ]
     },
     "execution_count": 500,
     "metadata": {},
     "output_type": "execute_result"
    },
    {
     "data": {
      "image/png": "[encoded data removed]",
      "text/plain": [
       "<Figure size 640x480 with 1 Axes>"
      ]
     },
     "metadata": {},
     "output_type": "display_data"
    }
   ],
   "source": [
    "plt.plot(df_rand.t, df_rand['tpr'], label='TPR')\n",
    "plt.plot(df_rand.t, df_rand['fpr'], label='FPR')\n",
    "plt.legend()"
   ]
  },
  {
   "cell_type": "markdown",
   "id": "73870887-cd5b-4715-898b-e62177de8ae1",
   "metadata": {},
   "source": [
    "#### Ideal Model"
   ]
  },
  {
   "cell_type": "code",
   "execution_count": 501,
   "id": "34e6d659-a74f-42b5-ac26-38e74bd6b5a7",
   "metadata": {},
   "outputs": [
    {
     "data": {
      "text/plain": [
       "(np.int64(1023), np.int64(386))"
      ]
     },
     "execution_count": 501,
     "metadata": {},
     "output_type": "execute_result"
    }
   ],
   "source": [
    "num_neg = (y_val == 0).sum()\n",
    "num_pos = (y_val == 1).sum()\n",
    "num_neg, num_pos"
   ]
  },
  {
   "cell_type": "code",
   "execution_count": 502,
   "id": "3dbdd86f-5e9b-4bb3-9e0c-b065e5812bf5",
   "metadata": {},
   "outputs": [
    {
     "data": {
      "text/plain": [
       "array([0, 0, 0, ..., 1, 1, 1])"
      ]
     },
     "execution_count": 502,
     "metadata": {},
     "output_type": "execute_result"
    }
   ],
   "source": [
    "y_ideal = np.repeat([0, 1], [num_neg, num_pos])\n",
    "y_ideal"
   ]
  },
  {
   "cell_type": "code",
   "execution_count": 503,
   "id": "454fa8af-42d3-4f81-a952-3b9715530e77",
   "metadata": {},
   "outputs": [],
   "source": [
    "y_ideal_pred = np.linspace(0, 1, len(y_val))"
   ]
  },
  {
   "cell_type": "code",
   "execution_count": 504,
   "id": "63b6bf69-3d74-477f-9abb-d5d3292adeca",
   "metadata": {},
   "outputs": [
    {
     "data": {
      "text/plain": [
       "np.float64(1.0)"
      ]
     },
     "execution_count": 504,
     "metadata": {},
     "output_type": "execute_result"
    }
   ],
   "source": [
    "((y_ideal_pred > 0.726) == y_ideal).mean()"
   ]
  },
  {
   "cell_type": "code",
   "execution_count": 505,
   "id": "022881d3-6f11-4f8a-898a-290f26b301d1",
   "metadata": {},
   "outputs": [],
   "source": [
    "df_ideal = get_tpr_fpr_df(y_ideal, y_ideal_pred)"
   ]
  },
  {
   "cell_type": "code",
   "execution_count": 506,
   "id": "03c99c79-7d73-41f5-87cb-e2a368cd9377",
   "metadata": {},
   "outputs": [
    {
     "data": {
      "text/html": [
       "<div>\n",
       "<style scoped>\n",
       "    .dataframe tbody tr th:only-of-type {\n",
       "        vertical-align: middle;\n",
       "    }\n",
       "\n",
       "    .dataframe tbody tr th {\n",
       "        vertical-align: top;\n",
       "    }\n",
       "\n",
       "    .dataframe thead th {\n",
       "        text-align: right;\n",
       "    }\n",
       "</style>\n",
       "<table border=\"1\" class=\"dataframe\">\n",
       "  <thead>\n",
       "    <tr style=\"text-align: right;\">\n",
       "      <th></th>\n",
       "      <th>t</th>\n",
       "      <th>tp</th>\n",
       "      <th>tn</th>\n",
       "      <th>fp</th>\n",
       "      <th>fn</th>\n",
       "      <th>tpr</th>\n",
       "      <th>fpr</th>\n",
       "    </tr>\n",
       "  </thead>\n",
       "  <tbody>\n",
       "    <tr>\n",
       "      <th>0</th>\n",
       "      <td>0.0</td>\n",
       "      <td>386</td>\n",
       "      <td>0</td>\n",
       "      <td>1023</td>\n",
       "      <td>0</td>\n",
       "      <td>1.000000</td>\n",
       "      <td>1.000000</td>\n",
       "    </tr>\n",
       "    <tr>\n",
       "      <th>10</th>\n",
       "      <td>0.1</td>\n",
       "      <td>386</td>\n",
       "      <td>141</td>\n",
       "      <td>882</td>\n",
       "      <td>0</td>\n",
       "      <td>1.000000</td>\n",
       "      <td>0.862170</td>\n",
       "    </tr>\n",
       "    <tr>\n",
       "      <th>20</th>\n",
       "      <td>0.2</td>\n",
       "      <td>386</td>\n",
       "      <td>282</td>\n",
       "      <td>741</td>\n",
       "      <td>0</td>\n",
       "      <td>1.000000</td>\n",
       "      <td>0.724340</td>\n",
       "    </tr>\n",
       "    <tr>\n",
       "      <th>30</th>\n",
       "      <td>0.3</td>\n",
       "      <td>386</td>\n",
       "      <td>423</td>\n",
       "      <td>600</td>\n",
       "      <td>0</td>\n",
       "      <td>1.000000</td>\n",
       "      <td>0.586510</td>\n",
       "    </tr>\n",
       "    <tr>\n",
       "      <th>40</th>\n",
       "      <td>0.4</td>\n",
       "      <td>386</td>\n",
       "      <td>564</td>\n",
       "      <td>459</td>\n",
       "      <td>0</td>\n",
       "      <td>1.000000</td>\n",
       "      <td>0.448680</td>\n",
       "    </tr>\n",
       "    <tr>\n",
       "      <th>50</th>\n",
       "      <td>0.5</td>\n",
       "      <td>386</td>\n",
       "      <td>704</td>\n",
       "      <td>319</td>\n",
       "      <td>0</td>\n",
       "      <td>1.000000</td>\n",
       "      <td>0.311828</td>\n",
       "    </tr>\n",
       "    <tr>\n",
       "      <th>60</th>\n",
       "      <td>0.6</td>\n",
       "      <td>386</td>\n",
       "      <td>845</td>\n",
       "      <td>178</td>\n",
       "      <td>0</td>\n",
       "      <td>1.000000</td>\n",
       "      <td>0.173998</td>\n",
       "    </tr>\n",
       "    <tr>\n",
       "      <th>70</th>\n",
       "      <td>0.7</td>\n",
       "      <td>386</td>\n",
       "      <td>986</td>\n",
       "      <td>37</td>\n",
       "      <td>0</td>\n",
       "      <td>1.000000</td>\n",
       "      <td>0.036168</td>\n",
       "    </tr>\n",
       "    <tr>\n",
       "      <th>80</th>\n",
       "      <td>0.8</td>\n",
       "      <td>282</td>\n",
       "      <td>1023</td>\n",
       "      <td>0</td>\n",
       "      <td>104</td>\n",
       "      <td>0.730570</td>\n",
       "      <td>0.000000</td>\n",
       "    </tr>\n",
       "    <tr>\n",
       "      <th>90</th>\n",
       "      <td>0.9</td>\n",
       "      <td>141</td>\n",
       "      <td>1023</td>\n",
       "      <td>0</td>\n",
       "      <td>245</td>\n",
       "      <td>0.365285</td>\n",
       "      <td>0.000000</td>\n",
       "    </tr>\n",
       "    <tr>\n",
       "      <th>100</th>\n",
       "      <td>1.0</td>\n",
       "      <td>1</td>\n",
       "      <td>1023</td>\n",
       "      <td>0</td>\n",
       "      <td>385</td>\n",
       "      <td>0.002591</td>\n",
       "      <td>0.000000</td>\n",
       "    </tr>\n",
       "  </tbody>\n",
       "</table>\n",
       "</div>"
      ],
      "text/plain": [
       "       t   tp    tn    fp   fn       tpr       fpr\n",
       "0    0.0  386     0  1023    0  1.000000  1.000000\n",
       "10   0.1  386   141   882    0  1.000000  0.862170\n",
       "20   0.2  386   282   741    0  1.000000  0.724340\n",
       "30   0.3  386   423   600    0  1.000000  0.586510\n",
       "40   0.4  386   564   459    0  1.000000  0.448680\n",
       "50   0.5  386   704   319    0  1.000000  0.311828\n",
       "60   0.6  386   845   178    0  1.000000  0.173998\n",
       "70   0.7  386   986    37    0  1.000000  0.036168\n",
       "80   0.8  282  1023     0  104  0.730570  0.000000\n",
       "90   0.9  141  1023     0  245  0.365285  0.000000\n",
       "100  1.0    1  1023     0  385  0.002591  0.000000"
      ]
     },
     "execution_count": 506,
     "metadata": {},
     "output_type": "execute_result"
    }
   ],
   "source": [
    "df_ideal[::10]"
   ]
  },
  {
   "cell_type": "code",
   "execution_count": 507,
   "id": "a339381f-d584-4e59-985c-a32f4889110b",
   "metadata": {},
   "outputs": [
    {
     "data": {
      "text/plain": [
       "<matplotlib.legend.Legend at 0x167338c90>"
      ]
     },
     "execution_count": 507,
     "metadata": {},
     "output_type": "execute_result"
    },
    {
     "data": {
      "image/png": "[encoded data removed]",
      "text/plain": [
       "<Figure size 640x480 with 1 Axes>"
      ]
     },
     "metadata": {},
     "output_type": "display_data"
    }
   ],
   "source": [
    "plt.plot(df_ideal.t, df_ideal['tpr'], label='TPR')\n",
    "plt.plot(df_ideal.t, df_ideal['fpr'], label='FPR')\n",
    "plt.legend()"
   ]
  },
  {
   "cell_type": "markdown",
   "id": "d06b1b4b-6113-4e49-9e54-82f837aa9e2f",
   "metadata": {},
   "source": [
    "### Putting everything together"
   ]
  },
  {
   "cell_type": "code",
   "execution_count": 508,
   "id": "5842e68a-fd1d-4bfa-8ea2-63fd6d2e1c39",
   "metadata": {},
   "outputs": [
    {
     "data": {
      "text/plain": [
       "<matplotlib.legend.Legend at 0x167289250>"
      ]
     },
     "execution_count": 508,
     "metadata": {},
     "output_type": "execute_result"
    },
    {
     "data": {
      "image/png": "[encoded data removed]",
      "text/plain": [
       "<Figure size 640x480 with 1 Axes>"
      ]
     },
     "metadata": {},
     "output_type": "display_data"
    }
   ],
   "source": [
    "# plt.plot(df_rand.t, df_rand['tpr'], label='TPR')\n",
    "# plt.plot(df_rand.t, df_rand['fpr'], label='FPR')\n",
    "\n",
    "plt.plot(df_ideal.t, df_ideal['tpr'], label='I_TPR', color='black')\n",
    "plt.plot(df_ideal.t, df_ideal['fpr'], label='I_FPR', color='gray')\n",
    "\n",
    "plt.plot(df_scores.t, df_scores['tpr'], label='TPR')\n",
    "plt.plot(df_scores.t, df_scores['fpr'], label='FPR')\n",
    "plt.legend()"
   ]
  },
  {
   "cell_type": "code",
   "execution_count": 509,
   "id": "f774d1a7-546c-4526-9490-0af94e2b5a8d",
   "metadata": {},
   "outputs": [
    {
     "data": {
      "text/plain": [
       "<matplotlib.legend.Legend at 0x1677130d0>"
      ]
     },
     "execution_count": 509,
     "metadata": {},
     "output_type": "execute_result"
    },
    {
     "data": {
      "image/png": "[encoded data removed]",
      "text/plain": [
       "<Figure size 500x500 with 1 Axes>"
      ]
     },
     "metadata": {},
     "output_type": "display_data"
    }
   ],
   "source": [
    "plt.figure(figsize=(5, 5))\n",
    "\n",
    "plt.plot(df_scores.fpr, df_scores.tpr, label='model')\n",
    "plt.plot(df_rand.fpr, df_rand.tpr, label='random')\n",
    "plt.plot(df_ideal.fpr, df_ideal.tpr, label='ideal')\n",
    "\n",
    "plt.legend()"
   ]
  },
  {
   "cell_type": "code",
   "execution_count": 510,
   "id": "a1383fce-d6b8-4165-b346-624b69bcd706",
   "metadata": {},
   "outputs": [],
   "source": [
    "from sklearn.metrics import roc_curve"
   ]
  },
  {
   "cell_type": "code",
   "execution_count": 511,
   "id": "da0a1812-5b1a-44f0-8ba3-f0193d462c29",
   "metadata": {},
   "outputs": [],
   "source": [
    "fpr, tpr, thresholds = roc_curve(y_val, y_pred)"
   ]
  },
  {
   "cell_type": "code",
   "execution_count": 512,
   "id": "b3179a29-8d17-4bf0-814e-dda2aef572f3",
   "metadata": {},
   "outputs": [
    {
     "data": {
      "text/plain": [
       "<matplotlib.legend.Legend at 0x1665bb490>"
      ]
     },
     "execution_count": 512,
     "metadata": {},
     "output_type": "execute_result"
    },
    {
     "data": {
      "image/png": "[encoded data removed]",
      "text/plain": [
       "<Figure size 500x500 with 1 Axes>"
      ]
     },
     "metadata": {},
     "output_type": "display_data"
    }
   ],
   "source": [
    "plt.figure(figsize=(5, 5))\n",
    "\n",
    "plt.plot(fpr, tpr, label='model')\n",
    "plt.plot([0,1], [0,1], label='random', linestyle='--')\n",
    "\n",
    "plt.legend()"
   ]
  },
  {
   "cell_type": "markdown",
   "id": "098fb7ac-62f9-4468-a7af-5ec7379d7b6b",
   "metadata": {},
   "source": [
    "# 4.6 Area under ROC"
   ]
  },
  {
   "cell_type": "code",
   "execution_count": 513,
   "id": "a58d1248-7e30-4380-8fdf-32eebe82f7e7",
   "metadata": {},
   "outputs": [],
   "source": [
    "from sklearn.metrics import auc"
   ]
  },
  {
   "cell_type": "code",
   "execution_count": 514,
   "id": "9494a552-b4ea-4f6f-9ac0-656c380aaf48",
   "metadata": {},
   "outputs": [
    {
     "data": {
      "text/plain": [
       "np.float64(0.8438074544542871)"
      ]
     },
     "execution_count": 514,
     "metadata": {},
     "output_type": "execute_result"
    }
   ],
   "source": [
    "auc(fpr, tpr)"
   ]
  },
  {
   "cell_type": "code",
   "execution_count": 515,
   "id": "501d8c07-bed6-4f6b-8e00-7e35dcb59334",
   "metadata": {},
   "outputs": [
    {
     "data": {
      "text/plain": [
       "np.float64(0.8437542734718064)"
      ]
     },
     "execution_count": 515,
     "metadata": {},
     "output_type": "execute_result"
    }
   ],
   "source": [
    "auc(df_scores.fpr, df_scores.tpr)"
   ]
  },
  {
   "cell_type": "code",
   "execution_count": 516,
   "id": "9c8d18ab-6744-4a47-9571-434507f779ee",
   "metadata": {},
   "outputs": [
    {
     "data": {
      "text/plain": [
       "np.float64(0.9999430203759136)"
      ]
     },
     "execution_count": 516,
     "metadata": {},
     "output_type": "execute_result"
    }
   ],
   "source": [
    "auc(df_ideal.fpr, df_ideal.tpr)"
   ]
  },
  {
   "cell_type": "code",
   "execution_count": 517,
   "id": "11cc2e3d-c734-4cff-b938-a77d6575cf3b",
   "metadata": {},
   "outputs": [],
   "source": [
    "from sklearn.metrics import roc_auc_score\n"
   ]
  },
  {
   "cell_type": "code",
   "execution_count": 518,
   "id": "7ac54139-83d9-4a5d-9364-141db19ae51e",
   "metadata": {},
   "outputs": [
    {
     "data": {
      "text/plain": [
       "np.float64(0.8438074544542871)"
      ]
     },
     "execution_count": 518,
     "metadata": {},
     "output_type": "execute_result"
    }
   ],
   "source": [
    "roc_auc_score(y_val, y_pred)"
   ]
  },
  {
   "cell_type": "code",
   "execution_count": 519,
   "id": "e34026ac-25ef-4260-be40-a0ec1e378fa6",
   "metadata": {},
   "outputs": [],
   "source": [
    "# Auc tells us the prob of randomnly selected positive example has a higher score than negative example."
   ]
  },
  {
   "cell_type": "code",
   "execution_count": 520,
   "id": "5c800675-2a53-418f-8061-f47fbd813b9a",
   "metadata": {},
   "outputs": [],
   "source": [
    "neg = y_pred[y_val == 0]\n",
    "pos = y_pred[y_val == 1]"
   ]
  },
  {
   "cell_type": "code",
   "execution_count": 521,
   "id": "3aa2a34b-20fb-4859-89c1-0c07ba1ce6a2",
   "metadata": {},
   "outputs": [],
   "source": [
    "import random"
   ]
  },
  {
   "cell_type": "code",
   "execution_count": 522,
   "id": "58268c6e-bb95-4a30-8828-68c8621b4ae2",
   "metadata": {},
   "outputs": [
    {
     "data": {
      "text/plain": [
       "0.84469"
      ]
     },
     "execution_count": 522,
     "metadata": {},
     "output_type": "execute_result"
    }
   ],
   "source": [
    "n = 100000\n",
    "success = 0\n",
    "\n",
    "for i in range(n):\n",
    "    pos_ind = random.randint(0, len(pos) - 1)\n",
    "    neg_ind = random.randint(0, len(neg) - 1)\n",
    "\n",
    "    if pos[pos_ind] > neg[neg_ind]:\n",
    "        success = success + 1\n",
    "\n",
    "success / n"
   ]
  },
  {
   "cell_type": "code",
   "execution_count": 523,
   "id": "7fde3d2f-86df-4e3e-8671-fed7bd748f20",
   "metadata": {},
   "outputs": [],
   "source": [
    "# numpy\n",
    "n = 100000\n",
    "pos_ind = np.random.randint(0, len(pos), size=n)\n",
    "neg_ind = np.random.randint(0, len(neg), size=n)\n"
   ]
  },
  {
   "cell_type": "code",
   "execution_count": 524,
   "id": "3be28212-69c1-4adc-ba4f-61403d9a801b",
   "metadata": {},
   "outputs": [
    {
     "data": {
      "text/plain": [
       "np.float64(0.84299)"
      ]
     },
     "execution_count": 524,
     "metadata": {},
     "output_type": "execute_result"
    }
   ],
   "source": [
    "(pos[pos_ind] > neg[neg_ind]).mean()"
   ]
  },
  {
   "cell_type": "code",
   "execution_count": null,
   "id": "c32c1eaa-604a-429e-989f-ffbfe49cfc4e",
   "metadata": {},
   "outputs": [],
   "source": []
  },
  {
   "cell_type": "markdown",
   "id": "7e2f0572-a8f8-426e-bea9-e9d2bb7d1c59",
   "metadata": {},
   "source": [
    "# 4.7 K-fold Cross Validation"
   ]
  },
  {
   "cell_type": "code",
   "execution_count": 525,
   "id": "a76aa62f-6582-4199-b059-3825c9691971",
   "metadata": {},
   "outputs": [],
   "source": [
    "# Evaluating the model on different subsets"
   ]
  },
  {
   "cell_type": "code",
   "execution_count": 526,
   "id": "16d1358d-fb39-4e62-9f24-3976aaffa121",
   "metadata": {},
   "outputs": [],
   "source": [
    "import warnings\n",
    "from sklearn.exceptions import ConvergenceWarning\n",
    "\n",
    "# Suppress only ConvergenceWarnings\n",
    "warnings.filterwarnings(\"ignore\", category=ConvergenceWarning)"
   ]
  },
  {
   "cell_type": "code",
   "execution_count": 527,
   "id": "df8573dd-51ce-41de-a3f1-570f9c49444e",
   "metadata": {},
   "outputs": [],
   "source": [
    "\n",
    "def train(df_t, y, C=1.0):\n",
    "    dicts = df_t[categorical + numerical].to_dict(orient='records')\n",
    "\n",
    "    dv = DictVectorizer(sparse=False)\n",
    "    X_t = dv.fit_transform(dicts)\n",
    "\n",
    "    model = LogisticRegression(C=C, max_iter=1000)\n",
    "    model.fit(X_t, y)\n",
    "\n",
    "    return dv, model\n",
    "\n",
    "    "
   ]
  },
  {
   "cell_type": "code",
   "execution_count": 528,
   "id": "5a39d721-cd05-4ffd-998b-98df7713d08c",
   "metadata": {},
   "outputs": [],
   "source": [
    "dv, model = train(df_train, y_train, C=10)"
   ]
  },
  {
   "cell_type": "code",
   "execution_count": 529,
   "id": "a0d11451-172e-44ed-95da-2575dae6ba73",
   "metadata": {},
   "outputs": [],
   "source": [
    "def predict(df, dv, model):\n",
    "    dicts = df[categorical + numerical].to_dict(orient='records')\n",
    "\n",
    "    X_val = dv.transform(dicts)\n",
    "    y_pred = model.predict_proba(X_val)[:, 1]\n",
    "\n",
    "    return y_pred"
   ]
  },
  {
   "cell_type": "code",
   "execution_count": 530,
   "id": "f8dd3a1f-58e2-49b3-b9e5-74796e2da6bf",
   "metadata": {},
   "outputs": [],
   "source": [
    "y_pred = predict(df_val, dv, model)"
   ]
  },
  {
   "cell_type": "code",
   "execution_count": null,
   "id": "73acba9f-eafe-4e99-8945-3e312225d753",
   "metadata": {},
   "outputs": [],
   "source": []
  },
  {
   "cell_type": "code",
   "execution_count": 531,
   "id": "57fb857d-9c89-430d-b439-3c12085bd6ec",
   "metadata": {},
   "outputs": [],
   "source": [
    "from sklearn.model_selection import KFold"
   ]
  },
  {
   "cell_type": "code",
   "execution_count": 532,
   "id": "6d1926a5-31ce-43f7-afa4-f7e6825e4e45",
   "metadata": {},
   "outputs": [],
   "source": [
    "kfold = KFold(n_splits=10, shuffle=True, random_state=1)\n"
   ]
  },
  {
   "cell_type": "code",
   "execution_count": 533,
   "id": "49b03ad6-d07d-424a-bca4-028e125e2f90",
   "metadata": {},
   "outputs": [
    {
     "name": "stderr",
     "output_type": "stream",
     "text": [
      "113995.70s - pydevd: Sending message related to process being replaced timed-out after 5 seconds\n"
     ]
    },
    {
     "name": "stdout",
     "output_type": "stream",
     "text": [
      "Requirement already satisfied: tqdm in /usr/local/Caskroom/mambaforge/base/envs/mlzc/lib/python3.11/site-packages (4.66.5)\n"
     ]
    }
   ],
   "source": [
    "!pip install tqdm"
   ]
  },
  {
   "cell_type": "code",
   "execution_count": 534,
   "id": "338439fb-7e8f-406a-9c48-bbe7cd4fef68",
   "metadata": {},
   "outputs": [],
   "source": [
    "from tqdm.auto import tqdm"
   ]
  },
  {
   "cell_type": "code",
   "execution_count": 535,
   "id": "cc36377f-3469-4eb7-a631-77a8251cf910",
   "metadata": {},
   "outputs": [
    {
     "data": {
      "application/vnd.jupyter.widget-view+json": {
       "model_id": "3a3840f0e0cb4ede9e42cdda0dd7990d",
       "version_major": 2,
       "version_minor": 0
      },
      "text/plain": [
       "0it [00:00, ?it/s]"
      ]
     },
     "metadata": {},
     "output_type": "display_data"
    }
   ],
   "source": [
    "scores = []\n",
    "\n",
    "# trap the loop to check how long ?\n",
    "\n",
    "for train_idx, val_idx in tqdm(kfold.split(df_full_train)):\n",
    "\n",
    "    df_train = df_full_train.iloc[train_idx]\n",
    "    df_val = df_full_train.iloc[val_idx]\n",
    "\n",
    "    y_train = y_full_train.iloc[train_idx].values\n",
    "    y_val = y_full_train.iloc[val_idx].values\n",
    "\n",
    "    dv, model = train(df_train, y_train)\n",
    "    y_pred = predict(df_val, dv, model)\n",
    "\n",
    "    auc = roc_auc_score(y_val, y_pred)\n",
    "    scores.append(auc)\n",
    "    "
   ]
  },
  {
   "cell_type": "code",
   "execution_count": 536,
   "id": "57451f38-69ba-480e-83e9-590f6875553d",
   "metadata": {},
   "outputs": [
    {
     "data": {
      "text/plain": [
       "[np.float64(0.8498163255569868),\n",
       " np.float64(0.8423731435643564),\n",
       " np.float64(0.8584123714765046),\n",
       " np.float64(0.8333388198502181),\n",
       " np.float64(0.8245502481389578),\n",
       " np.float64(0.8413253413253413),\n",
       " np.float64(0.8431618365353304),\n",
       " np.float64(0.8255455407969641),\n",
       " np.float64(0.8458574181117534),\n",
       " np.float64(0.8614668414507076)]"
      ]
     },
     "execution_count": 536,
     "metadata": {},
     "output_type": "execute_result"
    }
   ],
   "source": [
    "scores"
   ]
  },
  {
   "cell_type": "code",
   "execution_count": 537,
   "id": "76248d7f-818a-4630-bc78-ba63c1048857",
   "metadata": {},
   "outputs": [
    {
     "name": "stdout",
     "output_type": "stream",
     "text": [
      "Mean AUC Score with std dev: 0.843 +- 0.012\n"
     ]
    }
   ],
   "source": [
    "print(f\"Mean AUC Score with std dev: {np.mean(scores):.3f} +- {np.std(scores):.3f}\")"
   ]
  },
  {
   "cell_type": "code",
   "execution_count": 538,
   "id": "756f92db-6739-4b5e-818a-43fcac31539a",
   "metadata": {},
   "outputs": [
    {
     "data": {
      "application/vnd.jupyter.widget-view+json": {
       "model_id": "7787d0e85b244819a2770dd8dcbdbee6",
       "version_major": 2,
       "version_minor": 0
      },
      "text/plain": [
       "  0%|          | 0/7 [00:00<?, ?it/s]"
      ]
     },
     "metadata": {},
     "output_type": "display_data"
    },
    {
     "name": "stdout",
     "output_type": "stream",
     "text": [
      "C = 0.001 AUC : 0.8251 0.0093\n",
      "C = 0.01 AUC : 0.8400 0.0083\n",
      "C = 0.1 AUC : 0.8418 0.0073\n",
      "C = 0.5 AUC : 0.8420 0.0069\n",
      "C = 1 AUC : 0.8419 0.0069\n",
      "C = 5 AUC : 0.8420 0.0069\n",
      "C = 10 AUC : 0.8419 0.0069\n"
     ]
    }
   ],
   "source": [
    "n_splits = 5\n",
    "\n",
    "for C in tqdm([.001, .01, .1, .5, 1, 5, 10]):\n",
    "    kfold = KFold(n_splits=n_splits, shuffle=True, random_state=1)\n",
    "\n",
    "    scores = []\n",
    "    \n",
    "    for train_idx, val_idx in kfold.split(df_full_train):\n",
    "    \n",
    "        df_train = df_full_train.iloc[train_idx]\n",
    "        df_val = df_full_train.iloc[val_idx]\n",
    "    \n",
    "        y_train = y_full_train.iloc[train_idx].values\n",
    "        y_val = y_full_train.iloc[val_idx].values\n",
    "    \n",
    "        dv, model = train(df_train, y_train, C=C)\n",
    "        y_pred = predict(df_val, dv, model)\n",
    "    \n",
    "        auc = roc_auc_score(y_val, y_pred)\n",
    "        scores.append(auc)\n",
    "\n",
    "    print(f\"C = {C} AUC : {np.mean(scores):.4f} {np.std(scores):.4f}\")\n",
    "    "
   ]
  },
  {
   "cell_type": "code",
   "execution_count": 539,
   "id": "92c65659-896e-4242-88b6-1bacb2ac02a9",
   "metadata": {},
   "outputs": [],
   "source": [
    "# C=1.0 good enough"
   ]
  },
  {
   "cell_type": "code",
   "execution_count": 540,
   "id": "f4381b9f-1a4b-4ff0-b0c4-7a01e2964092",
   "metadata": {},
   "outputs": [
    {
     "data": {
      "text/plain": [
       "[np.float64(0.8446672056895699),\n",
       " np.float64(0.8451301979870216),\n",
       " np.float64(0.8333253060405379),\n",
       " np.float64(0.8348088667903051),\n",
       " np.float64(0.8517304132283268)]"
      ]
     },
     "execution_count": 540,
     "metadata": {},
     "output_type": "execute_result"
    }
   ],
   "source": [
    "scores"
   ]
  },
  {
   "cell_type": "code",
   "execution_count": 541,
   "id": "7d0d7325-1a97-4b54-afd2-7d3b5b8e7365",
   "metadata": {},
   "outputs": [
    {
     "data": {
      "text/plain": [
       "(5634, 5634)"
      ]
     },
     "execution_count": 541,
     "metadata": {},
     "output_type": "execute_result"
    }
   ],
   "source": [
    "len(y_full_train), len(df_full_train)"
   ]
  },
  {
   "cell_type": "code",
   "execution_count": 542,
   "id": "f47f8b62-0957-444d-8bec-cf86b44e3e14",
   "metadata": {},
   "outputs": [
    {
     "data": {
      "text/plain": [
       "np.float64(0.858357166845418)"
      ]
     },
     "execution_count": 542,
     "metadata": {},
     "output_type": "execute_result"
    }
   ],
   "source": [
    "dv, model = train(df_full_train, y_full_train.values, C=1.0)\n",
    "y_pred = predict(df_test, dv, model)\n",
    "\n",
    "auc = roc_auc_score(y_test, y_pred)\n",
    "auc"
   ]
  },
  {
   "cell_type": "code",
   "execution_count": null,
   "id": "857471a7-3204-4233-807a-bab0afe2e53c",
   "metadata": {},
   "outputs": [],
   "source": []
  },
  {
   "cell_type": "code",
   "execution_count": null,
   "id": "55809064-fc56-4f74-94d8-8213462be5b5",
   "metadata": {},
   "outputs": [],
   "source": []
  }
 ],
 "metadata": {
  "kernelspec": {
   "display_name": "Python 3 (ipykernel)",
   "language": "python",
   "name": "python3"
  },
  "language_info": {
   "codemirror_mode": {
    "name": "ipython",
    "version": 3
   },
   "file_extension": ".py",
   "mimetype": "text/x-python",
   "name": "python",
   "nbconvert_exporter": "python",
   "pygments_lexer": "ipython3",
   "version": "3.11.10"
  }
 },
 "nbformat": 4,
 "nbformat_minor": 5
}
